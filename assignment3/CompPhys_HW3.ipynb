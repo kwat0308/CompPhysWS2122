{
 "cells": [
  {
   "cell_type": "markdown",
   "metadata": {},
   "source": [
    "**Exercise 3**\n",
    "\n",
    "**Keito Watanabe (s6kewata),\n",
    "Haveesh Singirikonda (s6gusing)**"
   ]
  },
  {
   "cell_type": "markdown",
   "metadata": {},
   "source": [
    "1). From the sheet, we have the expression for the average magnetization per site as follows:\n",
    "\n",
    "\n",
    "\\begin{equation*}\n",
    "    <m> = \\dfrac{1}{N\\beta}\\dfrac{\\partial}{\\partial h}\\left(\\log Z \\right) = \\dfrac{1}{N\\beta} \\dfrac{1}{Z} \\dfrac{\\partial Z}{\\partial h}\n",
    "\\end{equation*}\n",
    "\n",
    "\n",
    "So using the partition function (with $J > 0$) given in the exercise sheet, we have that:\n",
    "\n",
    "\\begin{align*}\n",
    "    \\dfrac{\\partial Z}{\\partial h} &= \\dfrac{\\partial}{\\partial h} \\left( \\int\\limits_{-\\infty}^{+\\infty} \\dfrac{d \\phi}{\\sqrt{2\\pi\\beta\\hat{J}}} \\exp{\\left[ -\\frac{\\phi^2}{2\\beta\\hat{J}} + N\\log\\left( 2 \\cosh(\\beta h \\pm \\phi)\\right)\\right]}\\right) \\\\\n",
    "    &=\\int\\limits_{-\\infty}^{+\\infty} \\dfrac{d \\phi}{\\sqrt{2\\pi\\beta\\hat{J}}} \\dfrac{\\partial}{\\partial h} \\left( \\exp{\\left[ -\\frac{\\phi^2}{2\\beta\\hat{J}} + N\\log\\left( 2 \\cosh(\\beta h \\pm \\phi)\\right)\\right]}\\right) \\\\\n",
    "    &:= \\int\\limits_{-\\infty}^{+\\infty} \\dfrac{d \\phi}{\\sqrt{2\\pi\\beta\\hat{J}}} \\dfrac{\\partial}{\\partial h} \\left( \\exp{\\left[\\kappa(\\beta, h)\\right]}\\right) \\\\\n",
    "    &= \\int\\limits_{-\\infty}^{+\\infty} \\dfrac{d \\phi}{\\sqrt{2\\pi\\beta\\hat{J}}} e^{\\kappa(\\beta, \\phi)} \\dfrac{\\partial \\kappa}{\\partial h}\n",
    "\\end{align*}\n",
    "\n",
    "Now:\n",
    "\n",
    "\n",
    "\\begin{equation*}\n",
    "\\dfrac{\\partial \\kappa}{\\partial h} = N \\dfrac{2 \\sinh(\\beta h \\pm \\phi)}{2 \\cosh(\\beta h \\pm \\phi)} \\beta = N\\beta \\tanh(\\beta h \\pm \\phi)\n",
    "\\end{equation*}\n",
    "\n",
    "Substituting Eq. (3) into Eq. (2), and thus substituting this into Eq. (1), we get our average magnetization per site as follows:\n",
    "\n",
    "\\begin{align*}\n",
    "    <m> &= \\dfrac{1}{N\\beta}\\dfrac{1}{Z} \\int\\limits_{-\\infty}^{+\\infty} \\dfrac{d \\phi}{\\sqrt{2\\pi\\beta\\hat{J}}} e^{\\kappa(\\beta, \\phi)} N\\beta \\tanh(\\beta h \\pm \\phi) \\\\\n",
    "    &= \\dfrac{1}{Z} \\int\\limits_{-\\infty}^{+\\infty} \\dfrac{d \\phi}{\\sqrt{2\\pi\\beta\\hat{J}}} e^{\\kappa(\\beta, \\phi)} \\tanh(\\beta h \\pm \\phi)\n",
    "\\end{align*}\n",
    "\n",
    "\n",
    "Comparing this to the expression for the expectation value for some operator $O$, we see that:\n",
    "\n",
    "\\begin{equation*}\n",
    "\\boxed{m[\\phi] = \\tanh(\\beta h \\pm \\phi)}\n",
    "\\end{equation*}\n",
    "\n",
    "In a similar fashion, we can evaluate the average energy per site. We have the following expression for $<\\epsilon>$ as such:\n",
    "\n",
    "\n",
    "\\begin{equation*}\n",
    "<\\epsilon> = -\\dfrac{1}{N} \\dfrac{\\partial}{\\partial \\beta}\\left(\\log Z \\right)  = -\\dfrac{1}{NZ} \\dfrac{\\partial Z}{\\partial \\beta} \n",
    "\\end{equation*}\n",
    "\n",
    "\n",
    "Now using the expression for the partition function (with $J > 0$ ) given in the exercise sheet, we have:\n",
    "\\begin{align*}\n",
    "    \\dfrac{\\partial Z}{\\partial \\beta} &= \\dfrac{\\partial}{\\partial \\beta} \\left( \\int\\limits_{-\\infty}^{+\\infty} \\dfrac{d \\phi}{\\sqrt{2\\pi\\beta\\hat{J}}} \\exp{\\left[ -\\frac{\\phi^2}{2\\beta\\hat{J}} + N\\log\\left( 2 \\cosh(\\beta h \\pm \\phi)\\right)\\right]}\\right) \\\\\n",
    "    &=\\int\\limits_{-\\infty}^{+\\infty} d \\phi \\dfrac{\\partial}{\\partial \\beta} \\left(\\dfrac{\\exp{\\left[ -\\frac{\\phi^2}{2\\beta\\hat{J}} + N\\log\\left( 2 \\cosh(\\beta h \\pm \\phi)\\right)\\right]}}{\\sqrt{2\\pi\\beta\\hat{J}}} \\right) \\\\\n",
    "    &=\\int\\limits_{-\\infty}^{+\\infty} d\\phi \\left(\\dfrac{e^{\\kappa(\\beta, h)}}{\\sqrt{2\\pi\\beta \\hat{J}}} \\dfrac{\\partial \\kappa}{\\partial \\beta} + e^{\\kappa(\\beta, h)}\\left(-\\dfrac{1}{2\\beta \\sqrt{2\\pi\\beta\\hat{J}}} \\right)\\right) \\\\\n",
    "    &= \\int\\limits_{-\\infty}^{+\\infty}  \\dfrac{d\\phi e^{\\kappa(\\beta, h)}}{\\sqrt{2\\pi\\beta \\hat{J}}}\\left(\\dfrac{\\partial \\kappa}{\\partial \\beta} -\\dfrac{1}{2\\beta} \\right)\n",
    "\\end{align*}\n",
    "\n",
    "Now we observe that:\n",
    "\n",
    "\\begin{align*}\n",
    "    \\dfrac{\\partial \\kappa}{\\partial \\beta} &= \\dfrac{\\partial}{\\partial \\beta}\\left(-\\frac{\\phi^2}{2\\beta\\hat{J}} + N\\log\\left( 2 \\cosh(\\beta h \\pm \\phi)\\right)\\right) \\\\\n",
    "    &= \\frac{\\phi^2}{2\\beta^2\\hat{J}} + N\\dfrac{2 \\sinh(\\beta h \\pm \\phi)}{2 \\cosh(\\beta h \\pm \\phi)} h \\\\\n",
    "    &= \\frac{\\phi^2}{2\\beta^2\\hat{J}} + N h \\tanh(\\beta h \\pm \\phi)\n",
    "\\end{align*}\n",
    "\n",
    "\n",
    "Thus combining our expressions, we have the following:\n",
    "\n",
    "\\begin{align*}\n",
    "    <\\epsilon> &= -\\dfrac{1}{NZ} \\int\\limits_{-\\infty}^{+\\infty}  \\dfrac{d\\phi e^{\\kappa(\\beta, h)}}{\\sqrt{2\\pi\\beta \\hat{J}}}\\left(\\frac{\\phi^2}{2\\beta^2\\hat{J}} + N h \\tanh(\\beta h \\pm \\phi) -\\dfrac{1}{2\\beta} \\right) \\\\\n",
    "    &= \\dfrac{1}{Z} \\int\\limits_{-\\infty}^{+\\infty}  \\dfrac{d\\phi e^{\\kappa(\\beta, h)}}{\\sqrt{2\\pi\\beta \\hat{J}}}\\left(\\frac{\\phi^2}{2\\beta^2N\\hat{J}} + h \\tanh(\\beta h \\pm \\phi) -\\dfrac{1}{2\\beta N} \\right)\n",
    "\\end{align*}\n",
    "\n",
    "\n",
    "Thus we see that the average energy per site is given as:\n",
    "\n",
    "\n",
    "\\begin{equation*}\n",
    "\\boxed{\\epsilon[\\phi] = \\frac{\\phi^2}{2\\beta^2N\\hat{J}} + h \\tanh(\\beta h \\pm \\phi) -\\dfrac{1}{2\\beta N}}\n",
    "\\end{equation*}\n"
   ]
  },
  {
   "cell_type": "markdown",
   "metadata": {},
   "source": [
    "2). We are given that the Hamiltonian is, \n",
    "\n",
    "\\begin{equation}\n",
    "    \\mathcal{H}(p,\\phi) = \\frac{p^2}{2} + \\frac{\\phi^2}{2\\beta \\hat{J}} - N\\log(2\\cosh(\\beta h + \\phi))\n",
    "\\end{equation}\n",
    "\n",
    "The equations of motion are, \n",
    "\n",
    "\\begin{equation}\n",
    "    \\dot{\\phi} = \\frac{\\partial \\mathcal{H}}{\\partial p}, \\dot{p} = -\\frac{\\partial \\mathcal{H}}{\\partial \\phi}\n",
    "\\end{equation}\n",
    "\n",
    "After evaluating the derivatives, the equations would look like, \n",
    "\n",
    "\\begin{equation}\n",
    "    \\dot{\\phi} = p\n",
    "\\end{equation}\n",
    "\n",
    "\\begin{equation}\n",
    "    \\dot{p} = -\\frac{\\phi}{\\beta \\hat{J}} + N\\tanh(\\beta h + \\phi)\n",
    "\\end{equation}"
   ]
  },
  {
   "cell_type": "code",
   "execution_count": 2,
   "metadata": {},
   "outputs": [],
   "source": [
    "import numpy as np"
   ]
  },
  {
   "cell_type": "markdown",
   "metadata": {},
   "source": [
    "Defining the *artificial* Hamiltonian.\n",
    "\n",
    "And using this with the equations of motion, we get $\\dot{p}$ and $\\dot{q}$. We will use these expressions to evaluate the leapfrog algorithm. "
   ]
  },
  {
   "cell_type": "code",
   "execution_count": 3,
   "metadata": {},
   "outputs": [],
   "source": [
    "b = 1\n",
    "\n",
    "def H(p,q,J,h,N):\n",
    "    \n",
    "    ham = p**2/2. + q**2/(2*b*J) - N*np.log(2*np.cosh(b*h+q))\n",
    "    \n",
    "    return ham\n",
    "\n",
    "def p_dot(q,p,J,h,N):\n",
    "    \n",
    "    pd =  q/(b*J) - N*np.tanh(b*h+q)\n",
    "    \n",
    "    return -pd\n",
    "\n",
    "def q_dot(q,p,J,h,N):\n",
    "    \n",
    "    return p\n",
    "\n",
    "def P_acc(p,q,J,h,N):\n",
    "    \n",
    "    return np.exp(-H(p,q,J,h,N))"
   ]
  },
  {
   "cell_type": "markdown",
   "metadata": {},
   "source": [
    "3). The leapfrog algorithm follows in the next block."
   ]
  },
  {
   "cell_type": "code",
   "execution_count": 4,
   "metadata": {},
   "outputs": [],
   "source": [
    "def leapfrog(N_md,p_0,q_0,J,h,N):\n",
    "    \n",
    "    dt = 1/N_md\n",
    "    \n",
    "    p = p_0\n",
    "    q = q_0\n",
    "    \n",
    "    q = q + 0.5*q_dot(q,p,J,h,N)*dt\n",
    "    \n",
    "    for i in range(N_md):\n",
    "\n",
    "        p = p + p_dot(q,p,J,h,N)*dt\n",
    "\n",
    "        if i!=N_md-1:\n",
    "\n",
    "            q = q + q_dot(q,p,J,h,N)*dt\n",
    "\n",
    "    q = q + 0.5*q_dot(q,p,J,h,N)*dt\n",
    "    \n",
    "    return p,q"
   ]
  },
  {
   "cell_type": "code",
   "execution_count": 5,
   "metadata": {},
   "outputs": [],
   "source": [
    "N_md = 100\n",
    "\n",
    "p_0 = 0.1\n",
    "q_0 = 1\n",
    "\n",
    "h = 1\n",
    "\n",
    "N = 20\n",
    "\n",
    "J = 1/N\n",
    "\n",
    "p_lf,q_lf = leapfrog(N_md,p_0,q_0,J,h,N)"
   ]
  },
  {
   "cell_type": "code",
   "execution_count": 6,
   "metadata": {},
   "outputs": [
    {
     "data": {
      "text/plain": [
       "-2.1365720552909926e-08"
      ]
     },
     "execution_count": 6,
     "metadata": {},
     "output_type": "execute_result"
    }
   ],
   "source": [
    "# check if the difference in Hamiltonian would be a small value\n",
    "dH = H(p_lf,q_lf,J,h,N) - H(p_0,q_0,J,h,N)\n",
    "\n",
    "dH = dH/H(p_0,q_0,J,h,N)\n",
    "\n",
    "dH"
   ]
  },
  {
   "cell_type": "code",
   "execution_count": 7,
   "metadata": {},
   "outputs": [],
   "source": [
    "N_md = np.linspace(1,100,dtype='int')\n",
    "\n",
    "p_0 = 1\n",
    "q_0 = 1\n",
    "\n",
    "h = 1\n",
    "N = 20\n",
    "J = 1/N\n",
    "\n",
    "h0 = H(p_0,q_0,J,h,N)\n",
    "\n",
    "H_md = np.ones(len(N_md))\n",
    "\n",
    "for i in range(len(N_md)):\n",
    "    \n",
    "    p,q = leapfrog(N_md[i],p_0,q_0,J,h,N)\n",
    "    \n",
    "    H_md[i] = (H(p,q,J,h,N) - h0)/h0\n",
    "    \n",
    "H_md = np.abs(H_md)"
   ]
  },
  {
   "cell_type": "code",
   "execution_count": 13,
   "metadata": {},
   "outputs": [
    {
     "data": {
      "image/png": "[encoded data removed]",
      "text/plain": [
       "<Figure size 648x432 with 1 Axes>"
      ]
     },
     "metadata": {
      "needs_background": "light"
     },
     "output_type": "display_data"
    }
   ],
   "source": [
    "import matplotlib.pyplot as plt\n",
    "\n",
    "plt.figure(figsize=(9,6))\n",
    "plt.semilogy(N_md,H_md)\n",
    "plt.xlabel('$N_{md}$', fontsize=14)\n",
    "plt.ylabel('$H(p_f,\\phi_f)/H(p_0,\\phi_0)-1$', fontsize=14)\n",
    "plt.title(\"Performance of Leapfrog Algorithm\");"
   ]
  },
  {
   "cell_type": "markdown",
   "metadata": {},
   "source": [
    "The plot looks like the one given in Figure 1. "
   ]
  },
  {
   "cell_type": "markdown",
   "metadata": {},
   "source": [
    "4). The code using the HMC algorithm is written in the next block."
   ]
  },
  {
   "cell_type": "code",
   "execution_count": 14,
   "metadata": {},
   "outputs": [],
   "source": [
    "def HMC(N_s,N_md,J,h,N):\n",
    "    \n",
    "    q_mc = np.ones(N_s)\n",
    "    p_mc = np.ones(N_s)\n",
    "    \n",
    "    acc = 0\n",
    "    \n",
    "    for i in range(N_s):\n",
    "        \n",
    "        p_0 = np.random.normal()\n",
    "        q_0 = 1.0\n",
    "\n",
    "        p_l,q_l = leapfrog(N_md,p_0,q_0,J,h,N)\n",
    "\n",
    "        P_0 = P_acc(p_0,q_0,J,h,N)\n",
    "        P_l = P_acc(p_l,q_l,J,h,N)\n",
    "    \n",
    "        r = np.random.normal()\n",
    "        \n",
    "        if P_l>P_0:\n",
    "            q_mc[i] = q_l\n",
    "            p_mc[i] = p_l\n",
    "            acc += 1\n",
    "            \n",
    "        elif P_l/P_0>r:\n",
    "            q_mc[i] = q_l\n",
    "            p_mc[i] = p_l\n",
    "            acc += 1\n",
    "            \n",
    "        else:\n",
    "            q_mc[i] = q_0\n",
    "            p_mc[i] = p_0            \n",
    "        \n",
    "    \n",
    "    return q_mc,p_mc,acc/N_s"
   ]
  },
  {
   "cell_type": "code",
   "execution_count": 15,
   "metadata": {},
   "outputs": [
    {
     "data": {
      "text/plain": [
       "0.976"
      ]
     },
     "execution_count": 15,
     "metadata": {},
     "output_type": "execute_result"
    }
   ],
   "source": [
    "N_s = 1000\n",
    "\n",
    "h = 1\n",
    "N = 20\n",
    "J = 1/N\n",
    "\n",
    "N_md = 100\n",
    "\n",
    "q_mc, p_mc , acc = HMC(N_s,N_md,J,h,N)\n",
    "\n",
    "acc  # the acceptance rate"
   ]
  },
  {
   "cell_type": "markdown",
   "metadata": {},
   "source": [
    "The acceptance rate for $N_{md}$ is $\\sim$ 98%"
   ]
  },
  {
   "cell_type": "markdown",
   "metadata": {},
   "source": [
    "Plotting the histogram to check if our sampling is correct."
   ]
  },
  {
   "cell_type": "code",
   "execution_count": 16,
   "metadata": {},
   "outputs": [
    {
     "data": {
      "image/png": "[encoded data removed]",
      "text/plain": [
       "<Figure size 648x432 with 1 Axes>"
      ]
     },
     "metadata": {
      "needs_background": "light"
     },
     "output_type": "display_data"
    }
   ],
   "source": [
    "q_th = np.linspace(0,2)\n",
    "\n",
    "h = 1\n",
    "N = 20\n",
    "J = 1/N\n",
    "b = 1\n",
    "\n",
    "P_th = np.exp(-q_th**2/(2*b*J))*np.exp(N*np.log(2*np.cosh(b*h+q_th)))\n",
    "P_th = P_th/(np.max(P_th))*1.75\n",
    "\n",
    "# q_tmp = q_mc/(np.max(q_mc))\n",
    "plt.figure(figsize=(9,6))\n",
    "plt.plot(q_th,P_th)\n",
    "plt.hist(q_mc,density=True,bins=20)\n",
    "plt.xlabel('$\\phi$', fontsize=14);"
   ]
  },
  {
   "cell_type": "markdown",
   "metadata": {},
   "source": [
    "The plot follows the theoretical distribution, so the HMC code works."
   ]
  },
  {
   "cell_type": "markdown",
   "metadata": {},
   "source": [
    "Calculating $<m>$ and $<\\epsilon>$ for $J=1$"
   ]
  },
  {
   "cell_type": "code",
   "execution_count": 17,
   "metadata": {},
   "outputs": [
    {
     "data": {
      "text/plain": [
       "0.9557907701665327"
      ]
     },
     "execution_count": 17,
     "metadata": {},
     "output_type": "execute_result"
    }
   ],
   "source": [
    "m_q = np.sum(np.tanh(b*h+q_mc))\n",
    "\n",
    "m_q = m_q/N_s\n",
    "\n",
    "m_q"
   ]
  },
  {
   "cell_type": "code",
   "execution_count": 18,
   "metadata": {},
   "outputs": [
    {
     "data": {
      "text/plain": [
       "27.94442696099703"
      ]
     },
     "execution_count": 18,
     "metadata": {},
     "output_type": "execute_result"
    }
   ],
   "source": [
    "e_q = np.sum(q_mc**2/(2*J*b**2) + N*h*np.tanh(b*h+q_mc) - 1/(2*b))\n",
    "\n",
    "e_q = e_q/N_s\n",
    "\n",
    "e_q"
   ]
  },
  {
   "cell_type": "markdown",
   "metadata": {},
   "source": [
    "5). We plot the values of $<m>$ and $<\\epsilon>$ vs $\\hat{J}$."
   ]
  },
  {
   "cell_type": "code",
   "execution_count": 19,
   "metadata": {},
   "outputs": [],
   "source": [
    "h = 0.5\n",
    "N = 20\n",
    "\n",
    "J_arr = np.linspace(0.2,2,10)/N\n",
    "\n",
    "N_md = 100\n",
    "\n",
    "N_s = 1000\n",
    "\n",
    "m_arr = np.ones(len(J_arr))\n",
    "e_arr = np.ones(len(J_arr))\n",
    "\n",
    "for i in range(len(J_arr)):\n",
    "    \n",
    "    q_arr, p_arr, acc = HMC(N_s,N_md,J_arr[i],h,N)\n",
    "    \n",
    "    m = np.sum(np.tanh(b*h+q_arr))\n",
    "\n",
    "    m = m/N_s\n",
    "    \n",
    "    e = np.sum(-q_arr**2/(2*N*J_arr[i]*b**2) - h*np.tanh(b*h+q_arr) + 1/(2*b*N))\n",
    "    e = e/N_s\n",
    "    \n",
    "    m_arr[i] = m\n",
    "    e_arr[i] = e"
   ]
  },
  {
   "cell_type": "code",
   "execution_count": 20,
   "metadata": {},
   "outputs": [],
   "source": [
    "import math\n",
    "\n",
    "# def nCr(n,r):\n",
    "#     f = math.factorial\n",
    "#     return f(n) / f(r) / f(n-r)\n",
    "\n",
    "def nCr(n,r):\n",
    "    f = math.factorial\n",
    "    return f(n) / (f(r) * f(n-r))"
   ]
  },
  {
   "cell_type": "code",
   "execution_count": 21,
   "metadata": {},
   "outputs": [],
   "source": [
    "Z_th = np.ones(len(J_arr))\n",
    "e_th = np.ones(len(J_arr))\n",
    "m_th = np.ones(len(J_arr))\n",
    "\n",
    "N = 20\n",
    "b = 1\n",
    "\n",
    "for i in range(len(J_arr)):\n",
    "    \n",
    "    Z_th[i] = 0\n",
    "    e_th[i] = 0\n",
    "    m_th[i] = 0\n",
    "    \n",
    "    for j in range(N+1):\n",
    "        \n",
    "        x = N - 2*j\n",
    "        \n",
    "        Z_tmp = nCr(N,j)*np.exp(0.5*b*J_arr[i]*x**2 + b*h*x)        \n",
    "        Z_th[i] = Z_th[i] + Z_tmp\n",
    "        \n",
    "        e_tmp = nCr(N,j)*np.exp(0.5*b*J_arr[i]*x**2 + b*h*x)*(0.5*b*J_arr[i]*x**2 + b*h*x)\n",
    "        e_th[i] = e_th[i] + e_tmp\n",
    "        \n",
    "        m_tmp = nCr(N,j)*np.exp(0.5*b*J_arr[i]*x**2 + b*h*x)*x\n",
    "        m_th[i] = m_th[i] + m_tmp\n",
    "        \n",
    "m_th = m_th/(N*Z_th)\n",
    "\n",
    "e_th = -e_th/(N*Z_th)"
   ]
  },
  {
   "cell_type": "code",
   "execution_count": 22,
   "metadata": {},
   "outputs": [
    {
     "data": {
      "image/png": "[encoded data removed]",
      "text/plain": [
       "<Figure size 432x288 with 1 Axes>"
      ]
     },
     "metadata": {
      "needs_background": "light"
     },
     "output_type": "display_data"
    }
   ],
   "source": [
    "plt.plot(J_arr,m_arr,label='HMC')\n",
    "plt.plot(J_arr,m_th,label='Theory')\n",
    "plt.xlabel('$\\hat{J}$')\n",
    "plt.ylabel('$<m>$')\n",
    "plt.legend();"
   ]
  },
  {
   "cell_type": "code",
   "execution_count": 23,
   "metadata": {},
   "outputs": [
    {
     "data": {
      "image/png": "[encoded data removed]",
      "text/plain": [
       "<Figure size 432x288 with 1 Axes>"
      ]
     },
     "metadata": {
      "needs_background": "light"
     },
     "output_type": "display_data"
    }
   ],
   "source": [
    "plt.plot(J_arr,e_arr,label='HMC')\n",
    "plt.plot(J_arr,e_th,label='Theory')\n",
    "plt.xlabel('$\\hat{J}$')\n",
    "plt.ylabel('$<\\epsilon>$')\n",
    "plt.legend();"
   ]
  },
  {
   "cell_type": "markdown",
   "metadata": {},
   "source": [
    "We see that while there are deviations for smaller values of $\\hat{J}$, for larger values of $\\hat{J}$ the HMC reaches the theoretical solution for $<m>$. For energy however, there are still sizable deviations between the theoretical and numerical results, observed by the different slope behaviour between the two."
   ]
  }
 ],
 "metadata": {
  "kernelspec": {
   "display_name": "Python 3",
   "language": "python",
   "name": "python3"
  },
  "language_info": {
   "codemirror_mode": {
    "name": "ipython",
    "version": 3
   },
   "file_extension": ".py",
   "mimetype": "text/x-python",
   "name": "python",
   "nbconvert_exporter": "python",
   "pygments_lexer": "ipython3",
   "version": "3.8.5"
  }
 },
 "nbformat": 4,
 "nbformat_minor": 4
}
