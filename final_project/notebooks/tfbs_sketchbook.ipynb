{
 "cells": [
  {
   "cell_type": "markdown",
   "id": "bacterial-switch",
   "metadata": {},
   "source": [
    "## Sketchbook\n",
    "\n",
    "Simple sketchbook where we run functions that we will modify in the main code (tfbs.ipynb) to check and see if it does what we expect it to."
   ]
  },
  {
   "cell_type": "code",
   "execution_count": 13,
   "id": "defined-egypt",
   "metadata": {},
   "outputs": [],
   "source": [
    "import numpy as np\n",
    "import matplotlib.pyplot as plt\n",
    "import math as m\n",
    "from numpy.polynomial.legendre import leggauss\n",
    "from scipy.special import sph_harm\n",
    "from sympy.physics.quantum.cg import CG, Wigner9j"
   ]
  },
  {
   "cell_type": "markdown",
   "id": "85743f16",
   "metadata": {},
   "source": [
    "Some functions we need to test the permutation operator."
   ]
  },
  {
   "cell_type": "markdown",
   "id": "02d467a4",
   "metadata": {},
   "source": [
    "Some things we need to note:\n",
    "- $p, q$ are equivalent to $p_{12}, p_3$ respectively.\n",
    "- Here $p_3^\\prime$ is only in the z-direction, so the magnetic component is zero (orbital ang mom only\n",
    "in one direction), i.e. $m_{3} = 0 \\implies m_{12}=M$. But $p_3$ is in both x and z direction and so can vary (defined via $\\mu$, $M-\\mu$ for $m_{12}, m_3$ resp.) "
   ]
  },
  {
   "cell_type": "markdown",
   "id": "d9fadd75",
   "metadata": {},
   "source": [
    "Below is the transformation method to transform the grid points for the Gauss-Legendre quadrature (needed to get grid and weights for integration)"
   ]
  },
  {
   "cell_type": "code",
   "execution_count": 14,
   "id": "9d721953",
   "metadata": {},
   "outputs": [],
   "source": [
    "def _trns(np1,np2,pa,pb,pc):\n",
    "  \"\"\"Auxilliary method that provides transformed Gauss-Legendre grid points and integration weights.\n",
    "\n",
    "     This is using a hyperbolic trafo shown in the lecture. \n",
    "     Parameter: \n",
    "     np1 --  grid points in ]0,pb[\n",
    "     np2 --  grid points are distributed in ]pb,pc[ using a linear trafo\n",
    "\n",
    "     pa  -- half of np1 points are in interval [0,pa]\n",
    "     pb  -- interval boundary as defined above \n",
    "     pc  -- upper integration boundary \"\"\" \n",
    "\n",
    "  x1grid,x1weight=leggauss(np1)\n",
    "  x2grid,x2weight=leggauss(np2)\n",
    "\n",
    "  npoints = np1 + np2\n",
    "\n",
    "  # trafo (1.+X) / (1./P1-(1./P1-2./P2)*X) for first interval \n",
    "  p1grid=(1.+x1grid) / (1./pa-(1./pa-2./pb)*x1grid)\n",
    "  p1weight=(2.0/pa-2.0/pb)*x1weight / (1./pa-(1./pa-2./pb)*x1grid)**2\n",
    "\n",
    "  # linear trafo \n",
    "  p2grid=(pc+pb)/2.0 + (pc-pb)/2.0*x2grid\n",
    "  p2weight=(pc-pb)/2.0*x2weight\n",
    "\n",
    "  pgrid=np.empty((npoints),dtype=np.double)\n",
    "  pweight=np.empty((npoints),dtype=np.double)\n",
    "\n",
    "  pgrid = np.concatenate((p1grid, p2grid), axis=None)\n",
    "  pweight = np.concatenate((p1weight, p2weight), axis=None)\n",
    "\n",
    "  return pgrid,pweight "
   ]
  },
  {
   "cell_type": "markdown",
   "id": "cf6bcaf3",
   "metadata": {},
   "source": [
    "Below is auxiliary function that converts three component vector into spherical coordinates of $(p, \\theta, \\phi)$ (ex. $\\vec{p_{12}} = (p_{12}, \\theta_{12}, \\phi_{12})$)"
   ]
  },
  {
   "cell_type": "code",
   "execution_count": 15,
   "id": "a85efec2",
   "metadata": {},
   "outputs": [],
   "source": [
    "def _angle(px,py,pz):\n",
    "    \"\"\"Auxiliary routine to determine magnitude, phi, and theta of three component vector. \n",
    "\n",
    "       Parameters:\n",
    "       px,py,pz -- cartesian components of a vector \n",
    "\n",
    "       returns magntitude, theta and phi angles.\n",
    "    \"\"\"\n",
    "\n",
    "    pmag=np.sqrt(px**2+py**2+pz**2)\n",
    "    theta=np.where(pmag!=0.0,np.arccos(pz/pmag),0.0)\n",
    "\n",
    "    phi=theta # copy shape of theta to phi \n",
    "    phi=1.5*m.pi # and set to constant value\n",
    "\n",
    "    # prepare bool arrays for px,py > 0 < 0  with shape of phi \n",
    "\n",
    "    pxgt0=(phi==0)  # copy shape\n",
    "    pxgt0=(px>0)    # test \n",
    "\n",
    "    pxlt0=(phi==0)  # copy shape\n",
    "    pxlt0=(px<0)    # test \n",
    "\n",
    "    pxeq0=(phi==0)  # copy shape\n",
    "    pxeq0=(px==0)   # test \n",
    "\n",
    "    pygt0=(phi==0)  # copy shape\n",
    "    pygt0=(py>0)    # test \n",
    "\n",
    "    np.where(pxgt0 & pygt0,np.arctan(py/px),phi)\n",
    "    np.where(pxgt0 & np.invert(pxgt0),2*m.pi-np.arctan(-py/px),phi)\n",
    "    np.where(pxlt0 & pygt0,m.pi-np.arctan(-py/px),phi)\n",
    "    np.where(pxlt0 & np.invert(pygt0),m.pi+np.arctan(py/px),phi)\n",
    "    np.where(pxeq0 & pygt0,0.5*m.pi,phi)\n",
    "\n",
    "    return pmag,theta,phi   "
   ]
  },
  {
   "cell_type": "markdown",
   "id": "a2e074b6",
   "metadata": {},
   "source": [
    "below is auxiliary function for converting index $l, m$ into a combined index."
   ]
  },
  {
   "cell_type": "code",
   "execution_count": 18,
   "id": "ab4a931a",
   "metadata": {},
   "outputs": [],
   "source": [
    "def _lmindx(l,m):\n",
    "    \"\"\"Combined unique index for l and m.\n",
    "    \n",
    "        Nice trick: since quantum numbers lm are linked to each other, this combined \n",
    "        index allows one to store the results depending on lm using the memory more efficiently. \n",
    "    \"\"\"        \n",
    "    return l**2+l+m"
   ]
  },
  {
   "cell_type": "markdown",
   "id": "satisfied-portable",
   "metadata": {},
   "source": [
    "Here below we test the execution of the permutation operator."
   ]
  },
  {
   "cell_type": "code",
   "execution_count": 22,
   "id": "defined-congress",
   "metadata": {},
   "outputs": [],
   "source": [
    "# some initial parameters set by ThreeBody (inherited from TwoBodyTMat) class\n",
    "\n",
    "# gridpoints for momentum transfer\n",
    "nq1=20\n",
    "nq2=10\n",
    "nqpoints = nq1 + nq2\n",
    "\n",
    "# grid points for x (cos of angle between p3 and p3')\n",
    "nx = 12\n",
    "\n",
    "lmax=0  # max two-body angular momentum\n",
    "bl=0  # total orbital angular momentum\n",
    "\n",
    "# momentum grid interval boundaries\n",
    "qa=1.0\n",
    "qb=5.0\n",
    "qc=20.0\n",
    "\n",
    "xp,xw = leggauss(nx)  # grid points for permutation op\n",
    "\n",
    "bl=bl  # total angular momentum\n",
    "lammax=lmax+bl  # max value for l3\n",
    "qnalpha=[]\n",
    "alpha=0\n",
    "\n",
    "# creating dictionaries for alpha, that contains l12, l3, L\n",
    "for l in range(lmax+1):\n",
    "  if(l%2==0):   # take only symmetric pw (Pauli)  \n",
    "   for lam in range(abs(l-bl),l+bl+1):\n",
    "     qnalpha.append({\"alpha\":alpha,\"l\":l,\"lam\":lam,\"bl\":bl})\n",
    "     alpha+=1\n",
    "nalpha=len(qnalpha)\n",
    "\n",
    "# creating momentum transfer grid\n",
    "qgrid,qweight = _trns(nq1,nq2,qa,qb,qc)"
   ]
  },
  {
   "cell_type": "markdown",
   "id": "f27a0424",
   "metadata": {},
   "source": [
    "Below is the formulation of the permutation operator.\n",
    "\n",
    "- `pip, pi` are $\\pi_{12}^\\prime$, $\\pi_{12}$ respectively.\n",
    "- `thetapp` is the arccosine of $x$ (angle between p3 and p3')\n",
    "- `theta, thetap` are the direction of p12 and p3 resp."
   ]
  },
  {
   "cell_type": "code",
   "execution_count": 17,
   "id": "bound-nothing",
   "metadata": {},
   "outputs": [],
   "source": [
    "# prepare shifted momenta and angles for the symmetric permutation \n",
    "\n",
    "pip=np.empty((nqpoints, nqpoints, nx),dtype=np.double)        \n",
    "pi=np.empty(( nqpoints, nqpoints, nx),dtype=np.double)        \n",
    "\n",
    "thetap=np.empty(( nqpoints, nqpoints, nx),dtype=np.double)\n",
    "theta=np.empty(( nqpoints, nqpoints, nx),dtype=np.double)\n",
    "thetapp=np.empty(( nx),dtype=np.double)\n",
    "\n",
    "# construct direction and magnitude vectors for p12, p3, x\n",
    "for ix in range( nx):\n",
    "  xval= xp[ix] \n",
    "  thetapp[ix]=np.arccos(xval)\n",
    "  for jq in range( nqpoints):\n",
    "    qpval= qgrid[jq]\n",
    "    for iq in range( nqpoints):\n",
    "      qval= qgrid[iq]\n",
    "\n",
    "      px=qpval*np.sqrt(1.0-xval**2)\n",
    "      py=0.0\n",
    "      pz=0.5*qval+qpval*xval \n",
    "      pi[iq,jq,ix],theta[iq,jq,ix],phi= _angle(px,py,pz)\n",
    "\n",
    "      px=-0.5*qpval*np.sqrt(1.0-xval**2)\n",
    "      py=0.0\n",
    "      pz=-qval-0.5*qpval*xval \n",
    "      pip[iq,jq,ix],thetap[iq,jq,ix],phi= _angle(px,py,pz)\n",
    "\n"
   ]
  },
  {
   "cell_type": "markdown",
   "id": "7f465d9a",
   "metadata": {},
   "source": [
    "Here the spherical harmonics are constructed.\n",
    "Since we write the integral of the permutation operator only with respect to $x = \\hat{p_3}$, the spherical harmonics are written in this fashion as well. (Lecture 9, page 6, line 3). This is contained within the definition of the permutation operator $G_{\\alpha^\\prime, \\alpha}$\n",
    "\n",
    "So here we find the spherical harmonics $y_{l,\\mu}(\\hat{-q-0.5q*p}), y_{l,\\mu}(\\hat{q+0.5q*p})$ and $y_{\\lambda, \\mu}(\\hat{qp})$, where $(l, \\mu) = (l_{12}, m)$ and $(\\lambda, \\mu) = (l_3, m)$. "
   ]
  },
  {
   "cell_type": "code",
   "execution_count": 19,
   "id": "89e33d67",
   "metadata": {},
   "outputs": [],
   "source": [
    "# prepare spherical harmonics and store based on lmindx \n",
    "# number of lam,mu und l,mu combinations \n",
    "nlamindx=_lmindx(lammax,lammax)+1\n",
    "nlindx=_lmindx(lmax,lmax)+1\n",
    "\n",
    "# array for Y_{lam mu}(hat qp) (real is sufficient since phi=0)\n",
    "ylam=np.empty((nlamindx,nx),dtype=np.double)\n",
    "for lam in range(lammax+1):\n",
    "    for mu in range(-lam,lam+1):\n",
    "        ylam[_lmindx(lam,mu),:]=np.real(sph_harm(mu,lam, 0, thetapp))\n",
    "\n",
    "\n",
    "# array for Y_{l mu}(-q-0.5qp) (real is sufficient since phi=0)\n",
    "yl=np.empty((nlindx,nqpoints,nqpoints,nx),dtype=np.double)\n",
    "for l in range(lmax+1):\n",
    "    for mu in range(-l,l+1):\n",
    "        yl[_lmindx(l,mu),:,:,:]=np.real(sph_harm(mu,l, 0, thetap))\n",
    "\n",
    "# array for Y*_{l mu}(0.5q+qp) (real is sufficient since phi=0)\n",
    "ystarl=np.empty((nlindx,nqpoints,nqpoints,nx),dtype=np.double)\n",
    "for l in range(lmax+1):\n",
    "    for mu in range(-l,l+1):\n",
    "        ystarl[_lmindx(l,mu),:,:,:]=np.real(sph_harm(mu,l, 0, theta))"
   ]
  },
  {
   "cell_type": "markdown",
   "id": "dcf20cde",
   "metadata": {},
   "source": [
    "Here then we evaluate the CG coefficients contained in the coupled spherical harmonics.\n",
    "\n",
    "The primed coordinates have $(M, 0, M)$ due to how $p_3$ is defined.\n",
    "The unprimed coordinates have a x-dependence so its $(\\mu, M-\\mu, M)$.\n",
    "They also share the same total magnetic quantum number and the orbital angular momentum too (why same l12, l3?).\n"
   ]
  },
  {
   "cell_type": "code",
   "execution_count": 23,
   "id": "c5ce6cda",
   "metadata": {},
   "outputs": [],
   "source": [
    "# now prepare the necessary Clebsch-Gordan coefficients\n",
    "# we need (l lam L, M 0 M)  and (l lam L,mu M-mu,M)\n",
    "# I assume that L is smaller than the lmax or lammax therefore M=-L,L\n",
    "# the smallest index for storage \n",
    "\n",
    "cg=np.zeros((nalpha,2*bl+1),dtype=np.double)\n",
    "cgp=np.zeros((nalpha,2*lmax+1,2*bl+1),dtype=np.double)\n",
    "\n",
    "for qnset in qnalpha:  # go through allowed l,lam combinations\n",
    "    for bm in range(-bl,bl+1):\n",
    "        cg[qnset[\"alpha\"],bm+bl]=float(CG(qnset[\"l\"],bm,qnset[\"lam\"],0,bl,bm).doit())\n",
    "    for mu in range(-qnset[\"l\"],qnset[\"l\"]+1):\n",
    "        cgp[qnset[\"alpha\"],mu+qnset[\"l\"],bm+bl]=float(CG(qnset[\"l\"],mu,qnset[\"lam\"],bm-mu,bl,bm).doit())"
   ]
  },
  {
   "cell_type": "markdown",
   "id": "cf4efd96",
   "metadata": {},
   "source": [
    "Below evaluated the coupled spherical harmonic (evaluates summation of m12 and m3)"
   ]
  },
  {
   "cell_type": "code",
   "execution_count": 31,
   "id": "2b50cb02",
   "metadata": {},
   "outputs": [],
   "source": [
    "# now we can perform the mu summation for the combination of coupled spherical harmonics \n",
    "ylylam=np.zeros((nalpha,2*bl+1,nqpoints,nqpoints,nx),dtype=np.double)  # coupled sph harmonic array\n",
    "for qnset in qnalpha:  # go through allowed l,lam combinations\n",
    "    alphap=qnset[\"alpha\"]\n",
    "    l=qnset[\"l\"]\n",
    "    lam=qnset[\"lam\"]\n",
    "    for bm in range(-bl,bl+1):\n",
    "        for mu in range(-l,l+1):\n",
    "            lmindx=_lmindx(l,mu)\n",
    "            if abs(bm-mu)<=lam:\n",
    "                lamindx=_lmindx(lam,bm-mu)\n",
    "                ylylam[alphap,bm+bl,:,:,:]+=cgp[alphap,mu+l,bm+bl]*yl[lmindx,:,:,:]*ylam[lamindx,:]"
   ]
  },
  {
   "cell_type": "markdown",
   "id": "2b7b3d74",
   "metadata": {},
   "source": [
    "Below evaluates the numerical representation of the permutation operator $G_{\\alpha^\\prime, \\alpha}$.\n",
    "So over here the summation over $M_L$ gives this.\n",
    "\n",
    "The normalization comes from:\n",
    "- summation over $M_L$\n",
    "- the cancellation of the normalization coefficient from the definition of the spherical harmonics in `scipy.special.sph_harm`.\n",
    "\n",
    "**Modification**\n",
    "Here we need to add the following:\n",
    "- the spin components\n",
    "- the Wigner-9j coefficients"
   ]
  },
  {
   "cell_type": "code",
   "execution_count": 32,
   "id": "72b36443",
   "metadata": {},
   "outputs": [],
   "source": [
    "# bm summation then gives G \n",
    "gfunc=np.zeros((nalpha,nalpha,nqpoints,nqpoints,nx),dtype=np.double)\n",
    "for qnset in qnalpha:  # go through allowed l,lam combinations\n",
    "    alpha=qnset[\"alpha\"]\n",
    "    l=qnset[\"l\"]\n",
    "    lam=qnset[\"lam\"]\n",
    "    for qnsetp in qnalpha:  # go through allowed l,lam combinations\n",
    "        alphap=qnsetp[\"alpha\"]\n",
    "        for bm in range(-bl,bl+1):\n",
    "            if(abs(bm)<=l):  \n",
    "                lmindx=_lmindx(l,bm) \n",
    "                gfunc[alpha,alphap,:,:,:]+=8*m.pi**2*np.sqrt((2*lam+1)/(4*m.pi))/(2*bl+1) \\\n",
    "                    *ystarl[lmindx,:,:,:]*ylylam[alphap,bm+bl,:,:,:]"
   ]
  }
 ],
 "metadata": {
  "kernelspec": {
   "display_name": "Python 3",
   "language": "python",
   "name": "python3"
  },
  "language_info": {
   "codemirror_mode": {
    "name": "ipython",
    "version": 3
   },
   "file_extension": ".py",
   "mimetype": "text/x-python",
   "name": "python",
   "nbconvert_exporter": "python",
   "pygments_lexer": "ipython3",
   "version": "3.8.5"
  }
 },
 "nbformat": 4,
 "nbformat_minor": 5
}
