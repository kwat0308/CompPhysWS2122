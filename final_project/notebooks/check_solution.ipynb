{
 "cells": [
  {
   "cell_type": "code",
   "execution_count": 1,
   "metadata": {},
   "outputs": [
    {
     "name": "stdout",
     "output_type": "stream",
     "text": [
      "nalphaNN 2\n",
      "   alpha12    l12     s12      J12     t12\n",
      "     0       0        0           0      1\n",
      "     1       0        1           1      0\n",
      "numabarNN 2\n",
      "nalpha3N:  2\n",
      "tau3 1\n",
      "tau3 1\n",
      "   alpha3N      l12       s12       J12          l3        I3        pari      t12     tau3\n",
      "         0        0         0         0        0         1        1        1        1        1       1\n",
      "         1        0         1         1        0         1        1        1        1        0       1\n",
      "time:  38.085542200000006\n",
      "pmat shape (2048, 2048)\n",
      "E -0.05\n",
      "maxpos, eigb 350 1.4183844112702273\n",
      "E -0.06\n",
      "maxpos, eigb 350 1.2928956292329634\n",
      "E -0.08334038345722312\n",
      "maxpos, eigb 350 1.0955406294444758\n",
      "E -0.09320695484791053\n",
      "maxpos, eigb 350 1.0353619921449\n",
      "E -0.09900472022896614\n",
      "maxpos, eigb 350 1.004204492523465\n",
      "E -0.09978708920894304\n",
      "maxpos, eigb 350 1.0002047010819746\n",
      "E -0.09982712924079153\n",
      "maxpos, eigb 350 1.0000012358222177\n",
      "E -0.09982737243887367\n",
      "maxpos, eigb 350 1.0000000003651146\n",
      "E -0.099827372510746\n",
      "maxpos, eigb 350 1.0000000000000004\n",
      "Ener: -19.698635935427976 1.0000000000000004\n",
      "nalphaNN 2\n",
      "   alpha12    l12     s12      J12     t12\n",
      "     0       0        0           0      1\n",
      "     1       0        1           1      0\n",
      "numabarNN 2\n",
      "nalpha3N:  2\n",
      "tau3 1\n",
      "tau3 1\n",
      "   alpha3N      l12       s12       J12          l3        I3        pari      t12     tau3\n",
      "         0        0         0         0        0         1        1        1        1        1       1\n",
      "         1        0         1         1        0         1        1        1        1        0       1\n",
      "time:  46.03979189999998\n",
      "pmat shape (2048, 2048)\n",
      "E -0.05\n",
      "maxpos, eigb 350 1.4183844112702273\n",
      "E -0.06\n",
      "maxpos, eigb 350 1.2928956292329634\n",
      "E -0.08334038345722312\n",
      "maxpos, eigb 350 1.0955406294444758\n",
      "E -0.09320695484791053\n",
      "maxpos, eigb 350 1.0353619921449\n",
      "E -0.09900472022896614\n",
      "maxpos, eigb 350 1.004204492523465\n",
      "E -0.09978708920894304\n",
      "maxpos, eigb 350 1.0002047010819746\n",
      "E -0.09982712924079153\n",
      "maxpos, eigb 350 1.0000012358222177\n",
      "E -0.09982737243887367\n",
      "maxpos, eigb 350 1.0000000003651146\n",
      "E -0.099827372510746\n",
      "maxpos, eigb 350 1.0000000000000004\n",
      "Ener: -19.698635935427976 1.0000000000000004\n"
     ]
    }
   ],
   "source": [
    "from solution_code import TwoBody, TwoBodyTMat, Cubherm, ThreeBody, OBEpot\n",
    "import numpy as np\n",
    "import matplotlib.pyplot as plt\n",
    "\n",
    "\n",
    "\n",
    "para=[700.0, 0.020167185806378923]\n",
    "\n",
    "pot=OBEpot(nx=24,mpi=138.0,C0=para[1],A=-1.0/6.474860194946856,cutoff=para[0])\n",
    "kernel=ThreeBody(pot,nx=8,np1=20,np2=12,nq1=20,nq2=12,lmax=0,j12max=1,l3max=0,j3min=1,\n",
    "         j3max=1,parimin=1,parimax=1,tau3min=1,tau3max=1)\n",
    "ener,eta,fadcomp=kernel.esearch(neigv=1,e1=-0.05,e2=-0.06,elow=-0.02,tol=1e-8)\n",
    "print(\"Ener:\",ener*kernel.hbarc,eta)"
   ]
  },
  {
   "cell_type": "code",
   "execution_count": 5,
   "metadata": {},
   "outputs": [
    {
     "data": {
      "text/plain": [
       "-0.099827372510746"
      ]
     },
     "execution_count": 5,
     "metadata": {},
     "output_type": "execute_result"
    }
   ],
   "source": [
    "ekin[0]*kernel.hbarc\n",
    "ener"
   ]
  },
  {
   "cell_type": "code",
   "execution_count": 2,
   "metadata": {},
   "outputs": [
    {
     "name": "stdout",
     "output_type": "stream",
     "text": [
      "Ener: -19.698635935427976 1.0000000000000004\n",
      "(0.06544334715289304, 0.12547880284377794)\n"
     ]
    }
   ],
   "source": [
    "# fadout = kernel.faddeev(fadcomp, ener)\n",
    "wf = kernel.applyperm(fadcomp)\n",
    "ekin = kernel.calc_ekin(fadcomp, wf)\n",
    "# epot = kernel.calc_vpot(fadout, wf)\n",
    "\n",
    "print(\"Ener:\",ener*kernel.hbarc,eta)\n",
    "print(ekin)"
   ]
  },
  {
   "cell_type": "code",
   "execution_count": 8,
   "metadata": {},
   "outputs": [
    {
     "name": "stdout",
     "output_type": "stream",
     "text": [
      "Current bj:  0\n",
      "nalphaNN 2\n",
      "   alpha12    l12     s12      J12     t12\n",
      "     0       0        0           0      1\n",
      "     1       1        1           0      1\n",
      "numabarNN 2\n",
      "nalpha3N:  1\n",
      "tau3 1\n",
      "   alpha3N      l12       s12       J12          l3        I3        pari      t12     tau3\n",
      "         0        0         0         0        0         1        1        1        1        1       1\n",
      "E -0.0046\n",
      "maxpos, eigb 175 0.6740058961895672\n",
      "E -0.0048\n",
      "maxpos, eigb 175 0.6332836050535597\n",
      "Current bj:  1\n",
      "nalphaNN 6\n",
      "   alpha12    l12     s12      J12     t12\n",
      "     0       0        0           0      1\n",
      "     1       1        1           0      1\n",
      "     2       1        0           1      0\n",
      "     3       1        1           1      1\n",
      "     4       0        1           1      0\n",
      "     5       2        1           1      0\n",
      "numabarNN 8\n",
      "nalpha3N:  3\n",
      "tau3 1\n",
      "tau3 1\n",
      "tau3 1\n",
      "   alpha3N      l12       s12       J12          l3        I3        pari      t12     tau3\n",
      "         0        0         0         0        0         1        1        1        1        1       1\n",
      "         1        0         1         1        0         1        1        1        1        0       1\n",
      "         2        2         1         1        0         1        1        1        1        0       1\n",
      "E -0.0046\n",
      "maxpos, eigb 525 2.6960235847582643\n",
      "E -0.0048\n",
      "maxpos, eigb 525 2.5331344202142283\n"
     ]
    }
   ],
   "source": [
    "bj_list = [0,1]  # J=1/2, J=3/2\n",
    "wf_list = []\n",
    "\n",
    "pot=OBEpot(nx=24,mpi=138.0,C0=para[1],A=-1.0/6.474860194946856,cutoff=para[0])\n",
    "\n",
    "\n",
    "for bj_idx, bj in enumerate(bj_list):\n",
    "    print(\"Current bj: \", bj)\n",
    "    # perform wavefunction evaluation for each angular momentum state\n",
    "    kernel=ThreeBody(pot,nx=8,np1=20,np2=12,nq1=20,nq2=12,lmax=bj+1,j12max=bj,l3max=0,j3min=1,\n",
    "         j3max=1,parimin=1,parimax=1,tau3min=1,tau3max=1)\n",
    "    \n",
    "    ener,eta,fadcomp=kernel.esearch(neigv=1,e1=-0.0046,e2=-0.0048,elow=-0.001,tol=1e-3)\n",
    "    # eigv, fadcomp = kernel.eigv_iter(E=-0.0047133078773, neigv=1)\n",
    "    # eigv, fadcomp = kernel.eigv_iter(E=-0.099827372510746, neigv=1)\n",
    "#     ener,eta,fadcomp=kernel.esearch(neigv=1,e1=-0.05,e2=-0.06,elow=-0.001,tol=1e-5)\n",
    "#     fadout = kernel.faddeev(fadcomp)\n",
    "    wf = kernel.applyperm(fadcomp)\n",
    "    \n",
    "    # evaluate kinetic energy\n",
    "    ekin = kernel.calc_ekin(fadcomp, wf)[0] * kernel.hbarc\n",
    "    \n",
    "    result_dict = {\"wf\":wf, \"kernel\":kernel, \"ekin\":ekin}\n",
    "    wf_list.append(result_dict)"
   ]
  },
  {
   "cell_type": "code",
   "execution_count": 9,
   "metadata": {},
   "outputs": [
    {
     "ename": "IndexError",
     "evalue": "only integers, slices (`:`), ellipsis (`...`), numpy.newaxis (`None`) and integer or boolean arrays are valid indices",
     "output_type": "error",
     "traceback": [
      "\u001b[1;31m---------------------------------------------------------------------------\u001b[0m",
      "\u001b[1;31mIndexError\u001b[0m                                Traceback (most recent call last)",
      "\u001b[1;32m<ipython-input-9-42650aafbf2f>\u001b[0m in \u001b[0;36m<module>\u001b[1;34m\u001b[0m\n\u001b[0;32m     13\u001b[0m         \u001b[1;31m# alpha_list = k.qnalpha[alpha_idx]\u001b[0m\u001b[1;33m\u001b[0m\u001b[1;33m\u001b[0m\u001b[1;33m\u001b[0m\u001b[0m\n\u001b[0;32m     14\u001b[0m         \u001b[1;31m# print(alpha_list)\u001b[0m\u001b[1;33m\u001b[0m\u001b[1;33m\u001b[0m\u001b[1;33m\u001b[0m\u001b[0m\n\u001b[1;32m---> 15\u001b[1;33m         \u001b[0malpha_idx\u001b[0m \u001b[1;33m=\u001b[0m \u001b[0malpha_dict\u001b[0m\u001b[1;33m[\u001b[0m\u001b[1;34m\"alpha\"\u001b[0m\u001b[1;33m]\u001b[0m\u001b[1;33m\u001b[0m\u001b[1;33m\u001b[0m\u001b[0m\n\u001b[0m\u001b[0;32m     16\u001b[0m         \u001b[0mqm_numbers\u001b[0m \u001b[1;33m=\u001b[0m \u001b[1;33m[\u001b[0m\u001b[0malpha_dict\u001b[0m\u001b[1;33m[\u001b[0m\u001b[1;34m\"j\"\u001b[0m\u001b[1;33m]\u001b[0m\u001b[1;33m,\u001b[0m \u001b[0malpha_dict\u001b[0m\u001b[1;33m[\u001b[0m\u001b[1;34m\"j3\"\u001b[0m\u001b[1;33m]\u001b[0m\u001b[1;33m,\u001b[0m \u001b[0malpha_dict\u001b[0m\u001b[1;33m[\u001b[0m\u001b[1;34m\"t\"\u001b[0m\u001b[1;33m]\u001b[0m\u001b[1;33m]\u001b[0m\u001b[1;33m\u001b[0m\u001b[1;33m\u001b[0m\u001b[0m\n\u001b[0;32m     17\u001b[0m \u001b[1;33m\u001b[0m\u001b[0m\n",
      "\u001b[1;31mIndexError\u001b[0m: only integers, slices (`:`), ellipsis (`...`), numpy.newaxis (`None`) and integer or boolean arrays are valid indices"
     ]
    }
   ],
   "source": [
    "for bj_idx, bj in enumerate(bj_list):\n",
    "    # momentum grids are the same for each kernel, so can just use any of them\n",
    "    k = wf_list[bj_idx][\"kernel\"]\n",
    "    pgrid = k.pgrid\n",
    "    qgrid = k.qgrid\n",
    "    # alpha_idces = [0,1,10,-1]\n",
    "\n",
    "    \n",
    "\n",
    "\n",
    "    for alpha_dict in k.qnalpha:\n",
    "        # quantum numbers associated to this particular alpha index\n",
    "        # alpha_list = k.qnalpha[alpha_idx]\n",
    "        # print(alpha_list)\n",
    "        alpha_idx = alpha_dict[\"alpha\"]\n",
    "        qm_numbers = [alpha_dict[\"j\"], alpha_dict[\"j3\"], alpha_dict[\"t\"]]\n",
    "\n",
    "        # create combined grid\n",
    "        P, Q = np.meshgrid(pgrid, qgrid)\n",
    "\n",
    "        # plotting the results\n",
    "        wf = np.abs(wf_list[bj_idx][\"wf\"][alpha_idx,:,:])  # take abs value\n",
    "        \n",
    "        fig, ax = plt.subplots(figsize=(8,8))\n",
    "        im = ax.contourf(P, Q, wf, vmin=np.min(wf), vmax=np.max(wf), cmap=plt.cm.YlGnBu_r)\n",
    "        ax.set_xlabel(\"p / fm$^{{-1}}$\", fontsize=12)\n",
    "        ax.set_ylabel(\"q / fm$^{{-1}}$\", fontsize=12)\n",
    "        if bj_idx == 0:\n",
    "            ax.set_xlim([0,1.2])\n",
    "            ax.set_ylim([0,1.2])\n",
    "        ax.set_title(\"Wavefunction with $j_{{12}}={0}, j_3={1}, t_{{12}}={2}$ for $J={3}$\".format(*qm_numbers, bj))\n",
    "        \n",
    "        cbar = fig.colorbar(im)\n",
    "        cbar.ax.set_ylabel(\"$|\\Psi|$ / fm$^3$\", fontsize=14)"
   ]
  },
  {
   "cell_type": "code",
   "execution_count": null,
   "metadata": {},
   "outputs": [],
   "source": []
  }
 ],
 "metadata": {
  "interpreter": {
   "hash": "a36a7aa7dd9d5e1a191ef08db3efa241dd90c17eb065e39bfa16de4e9672f4ea"
  },
  "kernelspec": {
   "display_name": "Python 3.8.5 ('base')",
   "language": "python",
   "name": "python3"
  },
  "language_info": {
   "codemirror_mode": {
    "name": "ipython",
    "version": 3
   },
   "file_extension": ".py",
   "mimetype": "text/x-python",
   "name": "python",
   "nbconvert_exporter": "python",
   "pygments_lexer": "ipython3",
   "version": "3.8.5"
  },
  "orig_nbformat": 4
 },
 "nbformat": 4,
 "nbformat_minor": 2
}
