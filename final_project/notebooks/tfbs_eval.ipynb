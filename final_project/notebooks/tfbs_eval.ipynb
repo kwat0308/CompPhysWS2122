{
 "cells": [
  {
   "cell_type": "markdown",
   "metadata": {},
   "source": [
    "## Evaluating the three-body fermion bound state\n",
    "\n",
    "Here we will generate plots by evaluating the three-body fermion bound state.\n",
    "\n",
    "The following plots will be evaluated:\n",
    "- wavefunction structure and its dependence on q wrt different ang mom states (J=1/2, 3/2)\n",
    "    - also compare binding energy between the two\n",
    "- comparison between boson and fermion case for wavefunction and binding energy for specific angular mom state\n",
    "\n",
    "### Notes about plotting\n",
    "- do it like Dr. Nogga's paper \n",
    "- plot 3-d plot of |wavefunc| vs p and q (p12 and p3)\n",
    "- plot 2-d contour plot of |wavefunc| vs p and q\n",
    "- evaluate KE (and possibly other operators too) for different cases\n",
    "- plot for off-shell t-matrix (?)"
   ]
  },
  {
   "cell_type": "code",
   "execution_count": 1,
   "metadata": {},
   "outputs": [],
   "source": [
    "from tbs_cls import OBEpot, ThreeBody\n",
    "from tfbs_cls import TwoBodyTMatFerm, ThreeBodyFerm\n",
    "\n",
    "import numpy as np\n",
    "import matplotlib.pyplot as plt\n",
    "import math as m\n"
   ]
  },
  {
   "cell_type": "code",
   "execution_count": 2,
   "metadata": {},
   "outputs": [],
   "source": [
    "# parameters for OBE interaction\n",
    "parasets=[[300.0, -0.09827953494014054],\n",
    " [400.0, -0.028203145146196713],\n",
    " [500.0, -0.0004221894040945335],\n",
    " [600.0, 0.012857431330421717],\n",
    " [700.0, 0.020167185806378923],\n",
    " [800.0, 0.024707945457255083],\n",
    " [900.0, 0.027865200396659445],\n",
    " [1000.0, 0.030308007813785776],\n",
    " [1100.0, 0.03239034331482156],\n",
    " [1200.0, 0.03431611357447293]]\n",
    "\n",
    "para=[700.0, 0.020167185806378923]"
   ]
  },
  {
   "cell_type": "markdown",
   "metadata": {},
   "source": [
    "### Comparisons between angular momentum states\n",
    "\n",
    "- we vary bj for the two angular momentum states\n"
   ]
  },
  {
   "cell_type": "code",
   "execution_count": 3,
   "metadata": {},
   "outputs": [
    {
     "name": "stdout",
     "output_type": "stream",
     "text": [
      "evalue evaluation:  89.83453890000001\n",
      "norm evaluation:  0.35068699999999353\n",
      "evalue evaluation:  119.55329939999999\n",
      "norm evaluation:  0.35238480000003847\n",
      "evalue evaluation:  157.1409011\n",
      "norm evaluation:  0.3766759000000093\n",
      "evalue evaluation:  151.81325469999996\n",
      "norm evaluation:  0.3746858000000657\n",
      "evalue evaluation:  151.13498500000003\n",
      "norm evaluation:  0.3887752000000546\n",
      "evalue evaluation:  148.56660110000007\n",
      "norm evaluation:  0.3501916000000165\n",
      "evalue evaluation:  101.26011999999992\n",
      "norm evaluation:  0.36781440000004295\n",
      "evalue evaluation:  102.14379719999988\n",
      "norm evaluation:  1.262146699999903\n",
      "evalue evaluation:  102.68157389999988\n",
      "norm evaluation:  1.0207313000000795\n",
      "evalue evaluation:  101.24231170000007\n",
      "norm evaluation:  0.9653525999999601\n"
     ]
    },
    {
     "name": "stderr",
     "output_type": "stream",
     "text": [
      "c:\\Users\\voltk\\Projects\\UBonn_WS2122\\comp_phys\\CompPhysWS2122\\final_project\\notebooks\\tfbs_cls.py:731: RuntimeWarning: invalid value encountered in double_scalars\n",
      "  enew=e2+(e1-e2)/(eta1-eta2)*(1-eta2)\n"
     ]
    },
    {
     "name": "stdout",
     "output_type": "stream",
     "text": [
      "evalue evaluation:  97.73730509999996\n",
      "norm evaluation:  1.7779840999999124\n",
      "evalue evaluation:  99.43627809999998\n",
      "norm evaluation:  0.8803020000000288\n",
      "evalue evaluation:  106.14941379999982\n",
      "norm evaluation:  1.0062184000000798\n"
     ]
    },
    {
     "ename": "KeyboardInterrupt",
     "evalue": "",
     "output_type": "error",
     "traceback": [
      "\u001b[1;31m---------------------------------------------------------------------------\u001b[0m",
      "\u001b[1;31mKeyboardInterrupt\u001b[0m                         Traceback (most recent call last)",
      "\u001b[1;32m<ipython-input-3-d717ffd7d85e>\u001b[0m in \u001b[0;36m<module>\u001b[1;34m\u001b[0m\n\u001b[0;32m      8\u001b[0m     \u001b[1;31m# perform wavefunction evaluation for each angular momentum state\u001b[0m\u001b[1;33m\u001b[0m\u001b[1;33m\u001b[0m\u001b[1;33m\u001b[0m\u001b[0m\n\u001b[0;32m      9\u001b[0m     \u001b[0mkernel\u001b[0m\u001b[1;33m=\u001b[0m\u001b[0mThreeBodyFerm\u001b[0m\u001b[1;33m(\u001b[0m\u001b[0mpot\u001b[0m\u001b[1;33m,\u001b[0m\u001b[0mnx\u001b[0m\u001b[1;33m=\u001b[0m\u001b[1;36m8\u001b[0m\u001b[1;33m,\u001b[0m\u001b[0mnp1\u001b[0m\u001b[1;33m=\u001b[0m\u001b[1;36m20\u001b[0m\u001b[1;33m,\u001b[0m\u001b[0mnp2\u001b[0m\u001b[1;33m=\u001b[0m\u001b[1;36m12\u001b[0m\u001b[1;33m,\u001b[0m\u001b[0mnq1\u001b[0m\u001b[1;33m=\u001b[0m\u001b[1;36m20\u001b[0m\u001b[1;33m,\u001b[0m\u001b[0mnq2\u001b[0m\u001b[1;33m=\u001b[0m\u001b[1;36m12\u001b[0m\u001b[1;33m,\u001b[0m\u001b[0mlmax\u001b[0m\u001b[1;33m=\u001b[0m\u001b[1;36m0\u001b[0m\u001b[1;33m,\u001b[0m \u001b[0ml3max\u001b[0m\u001b[1;33m=\u001b[0m\u001b[1;36m0\u001b[0m\u001b[1;33m,\u001b[0m \u001b[0mbj\u001b[0m\u001b[1;33m=\u001b[0m\u001b[0mbj\u001b[0m\u001b[1;33m)\u001b[0m\u001b[1;33m\u001b[0m\u001b[1;33m\u001b[0m\u001b[0m\n\u001b[1;32m---> 10\u001b[1;33m     \u001b[0mener\u001b[0m\u001b[1;33m,\u001b[0m\u001b[0meta\u001b[0m\u001b[1;33m,\u001b[0m\u001b[0mfadcomp\u001b[0m\u001b[1;33m=\u001b[0m\u001b[0mkernel\u001b[0m\u001b[1;33m.\u001b[0m\u001b[0mesearch\u001b[0m\u001b[1;33m(\u001b[0m\u001b[0mneigv\u001b[0m\u001b[1;33m=\u001b[0m\u001b[1;36m1\u001b[0m\u001b[1;33m,\u001b[0m\u001b[0me1\u001b[0m\u001b[1;33m=\u001b[0m\u001b[1;33m-\u001b[0m\u001b[1;36m0.0046\u001b[0m\u001b[1;33m,\u001b[0m\u001b[0me2\u001b[0m\u001b[1;33m=\u001b[0m\u001b[1;33m-\u001b[0m\u001b[1;36m0.0048\u001b[0m\u001b[1;33m,\u001b[0m\u001b[0melow\u001b[0m\u001b[1;33m=\u001b[0m\u001b[1;33m-\u001b[0m\u001b[1;36m0.001\u001b[0m\u001b[1;33m,\u001b[0m\u001b[0mtol\u001b[0m\u001b[1;33m=\u001b[0m\u001b[1;36m1e-5\u001b[0m\u001b[1;33m)\u001b[0m\u001b[1;33m\u001b[0m\u001b[1;33m\u001b[0m\u001b[0m\n\u001b[0m\u001b[0;32m     11\u001b[0m     \u001b[0mwf\u001b[0m \u001b[1;33m=\u001b[0m \u001b[0mkernel\u001b[0m\u001b[1;33m.\u001b[0m\u001b[0mwavefunc\u001b[0m\u001b[1;33m(\u001b[0m\u001b[0mfadcomp\u001b[0m\u001b[1;33m)\u001b[0m\u001b[1;33m\u001b[0m\u001b[1;33m\u001b[0m\u001b[0m\n\u001b[0;32m     12\u001b[0m \u001b[1;33m\u001b[0m\u001b[0m\n",
      "\u001b[1;32mc:\\Users\\voltk\\Projects\\UBonn_WS2122\\comp_phys\\CompPhysWS2122\\final_project\\notebooks\\tfbs_cls.py\u001b[0m in \u001b[0;36mesearch\u001b[1;34m(self, neigv, e1, e2, elow, tol, nitermax)\u001b[0m\n\u001b[0;32m    733\u001b[0m \u001b[1;33m\u001b[0m\u001b[0m\n\u001b[0;32m    734\u001b[0m           \u001b[1;31m# get new eigenvalue and replace e1 and e2 for next iteration\u001b[0m\u001b[1;33m\u001b[0m\u001b[1;33m\u001b[0m\u001b[1;33m\u001b[0m\u001b[0m\n\u001b[1;32m--> 735\u001b[1;33m           \u001b[0meta\u001b[0m\u001b[1;33m,\u001b[0m\u001b[0mfadcomp\u001b[0m\u001b[1;33m=\u001b[0m\u001b[0mself\u001b[0m\u001b[1;33m.\u001b[0m\u001b[0meigv\u001b[0m\u001b[1;33m(\u001b[0m\u001b[0menew\u001b[0m\u001b[1;33m,\u001b[0m\u001b[0mneigv\u001b[0m\u001b[1;33m)\u001b[0m\u001b[1;33m\u001b[0m\u001b[1;33m\u001b[0m\u001b[0m\n\u001b[0m\u001b[0;32m    736\u001b[0m           \u001b[0me2\u001b[0m\u001b[1;33m=\u001b[0m\u001b[0me1\u001b[0m\u001b[1;33m\u001b[0m\u001b[1;33m\u001b[0m\u001b[0m\n\u001b[0;32m    737\u001b[0m           \u001b[0meta2\u001b[0m\u001b[1;33m=\u001b[0m\u001b[0meta1\u001b[0m\u001b[1;33m\u001b[0m\u001b[1;33m\u001b[0m\u001b[0m\n",
      "\u001b[1;32mc:\\Users\\voltk\\Projects\\UBonn_WS2122\\comp_phys\\CompPhysWS2122\\final_project\\notebooks\\tfbs_cls.py\u001b[0m in \u001b[0;36meigv\u001b[1;34m(self, E, neigv)\u001b[0m\n\u001b[0;32m    668\u001b[0m     \u001b[1;31m# determine eigenvalues using numpy's eig method\u001b[0m\u001b[1;33m\u001b[0m\u001b[1;33m\u001b[0m\u001b[1;33m\u001b[0m\u001b[0m\n\u001b[0;32m    669\u001b[0m       \u001b[0mstart\u001b[0m\u001b[1;33m=\u001b[0m\u001b[0mtimeit\u001b[0m\u001b[1;33m.\u001b[0m\u001b[0mdefault_timer\u001b[0m\u001b[1;33m(\u001b[0m\u001b[1;33m)\u001b[0m\u001b[1;33m\u001b[0m\u001b[1;33m\u001b[0m\u001b[0m\n\u001b[1;32m--> 670\u001b[1;33m       \u001b[0mevalue\u001b[0m\u001b[1;33m,\u001b[0m\u001b[0mevec\u001b[0m\u001b[1;33m=\u001b[0m\u001b[0mnp\u001b[0m\u001b[1;33m.\u001b[0m\u001b[0mlinalg\u001b[0m\u001b[1;33m.\u001b[0m\u001b[0meig\u001b[0m\u001b[1;33m(\u001b[0m\u001b[0mself\u001b[0m\u001b[1;33m.\u001b[0m\u001b[0mkfadmat\u001b[0m\u001b[1;33m)\u001b[0m\u001b[1;33m\u001b[0m\u001b[1;33m\u001b[0m\u001b[0m\n\u001b[0m\u001b[0;32m    671\u001b[0m       \u001b[0mprint\u001b[0m\u001b[1;33m(\u001b[0m\u001b[1;34m\"evalue evaluation: \"\u001b[0m\u001b[1;33m,\u001b[0m \u001b[0mtimeit\u001b[0m\u001b[1;33m.\u001b[0m\u001b[0mdefault_timer\u001b[0m\u001b[1;33m(\u001b[0m\u001b[1;33m)\u001b[0m \u001b[1;33m-\u001b[0m \u001b[0mstart\u001b[0m\u001b[1;33m)\u001b[0m\u001b[1;33m\u001b[0m\u001b[1;33m\u001b[0m\u001b[0m\n\u001b[0;32m    672\u001b[0m \u001b[1;33m\u001b[0m\u001b[0m\n",
      "\u001b[1;32m<__array_function__ internals>\u001b[0m in \u001b[0;36meig\u001b[1;34m(*args, **kwargs)\u001b[0m\n",
      "\u001b[1;32m~\\Anaconda3\\lib\\site-packages\\numpy\\linalg\\linalg.py\u001b[0m in \u001b[0;36meig\u001b[1;34m(a)\u001b[0m\n\u001b[0;32m   1322\u001b[0m         _raise_linalgerror_eigenvalues_nonconvergence)\n\u001b[0;32m   1323\u001b[0m     \u001b[0msignature\u001b[0m \u001b[1;33m=\u001b[0m \u001b[1;34m'D->DD'\u001b[0m \u001b[1;32mif\u001b[0m \u001b[0misComplexType\u001b[0m\u001b[1;33m(\u001b[0m\u001b[0mt\u001b[0m\u001b[1;33m)\u001b[0m \u001b[1;32melse\u001b[0m \u001b[1;34m'd->DD'\u001b[0m\u001b[1;33m\u001b[0m\u001b[1;33m\u001b[0m\u001b[0m\n\u001b[1;32m-> 1324\u001b[1;33m     \u001b[0mw\u001b[0m\u001b[1;33m,\u001b[0m \u001b[0mvt\u001b[0m \u001b[1;33m=\u001b[0m \u001b[0m_umath_linalg\u001b[0m\u001b[1;33m.\u001b[0m\u001b[0meig\u001b[0m\u001b[1;33m(\u001b[0m\u001b[0ma\u001b[0m\u001b[1;33m,\u001b[0m \u001b[0msignature\u001b[0m\u001b[1;33m=\u001b[0m\u001b[0msignature\u001b[0m\u001b[1;33m,\u001b[0m \u001b[0mextobj\u001b[0m\u001b[1;33m=\u001b[0m\u001b[0mextobj\u001b[0m\u001b[1;33m)\u001b[0m\u001b[1;33m\u001b[0m\u001b[1;33m\u001b[0m\u001b[0m\n\u001b[0m\u001b[0;32m   1325\u001b[0m \u001b[1;33m\u001b[0m\u001b[0m\n\u001b[0;32m   1326\u001b[0m     \u001b[1;32mif\u001b[0m \u001b[1;32mnot\u001b[0m \u001b[0misComplexType\u001b[0m\u001b[1;33m(\u001b[0m\u001b[0mt\u001b[0m\u001b[1;33m)\u001b[0m \u001b[1;32mand\u001b[0m \u001b[0mall\u001b[0m\u001b[1;33m(\u001b[0m\u001b[0mw\u001b[0m\u001b[1;33m.\u001b[0m\u001b[0mimag\u001b[0m \u001b[1;33m==\u001b[0m \u001b[1;36m0.0\u001b[0m\u001b[1;33m)\u001b[0m\u001b[1;33m:\u001b[0m\u001b[1;33m\u001b[0m\u001b[1;33m\u001b[0m\u001b[0m\n",
      "\u001b[1;31mKeyboardInterrupt\u001b[0m: "
     ]
    }
   ],
   "source": [
    "bj_list = [0.5, 1.5]  # J=1/2, J=3/2\n",
    "wf_list = []\n",
    "\n",
    "pot=OBEpot(nx=24,mpi=138.0,C0=para[1],A=-1.0/6.474860194946856,cutoff=para[0])\n",
    "\n",
    "\n",
    "for bj_idx, bj in enumerate(bj_list):\n",
    "    # perform wavefunction evaluation for each angular momentum state\n",
    "    kernel=ThreeBodyFerm(pot,nx=8,np1=20,np2=12,nq1=20,nq2=12,lmax=0, l3max=0, bj=bj)\n",
    "    print(bj)\n",
    "    ener,eta,fadcomp=kernel.esearch(neigv=1,e1=-0.0046,e2=-0.0048,elow=-0.001,tol=1e-5)\n",
    "    wf = kernel.wavefunc(fadcomp)\n",
    "\n",
    "    wf_list.append(wf)"
   ]
  },
  {
   "cell_type": "code",
   "execution_count": null,
   "metadata": {},
   "outputs": [],
   "source": [
    "# momentum grids are the same for each kernel, so can just use any of them\n",
    "pgrid = kernel.pgrid\n",
    "qgrid = kernel.qgrid\n",
    "\n",
    "# create combined grid\n",
    "P, Q = np.meshgrid(pgrid, qgrid)\n",
    "\n",
    "# plotting the results\n",
    "fig, ax = plt.subplots(figsize=(6,4))\n",
    "\n",
    "\n",
    "for bj_idx, bj in enumerate(bj_list):\n",
    "    ax.contourf()"
   ]
  },
  {
   "cell_type": "code",
   "execution_count": 5,
   "metadata": {},
   "outputs": [
    {
     "data": {
      "text/plain": [
       "-3.3266830074939885e-07"
      ]
     },
     "execution_count": 5,
     "metadata": {},
     "output_type": "execute_result"
    }
   ],
   "source": [
    "-0.004713309405096219 - (-0.00471297673679547)"
   ]
  },
  {
   "cell_type": "code",
   "execution_count": null,
   "metadata": {},
   "outputs": [],
   "source": []
  }
 ],
 "metadata": {
  "interpreter": {
   "hash": "a36a7aa7dd9d5e1a191ef08db3efa241dd90c17eb065e39bfa16de4e9672f4ea"
  },
  "kernelspec": {
   "display_name": "Python 3.8.5 ('base')",
   "language": "python",
   "name": "python3"
  },
  "language_info": {
   "codemirror_mode": {
    "name": "ipython",
    "version": 3
   },
   "file_extension": ".py",
   "mimetype": "text/x-python",
   "name": "python",
   "nbconvert_exporter": "python",
   "pygments_lexer": "ipython3",
   "version": "3.8.5"
  },
  "orig_nbformat": 4
 },
 "nbformat": 4,
 "nbformat_minor": 2
}
