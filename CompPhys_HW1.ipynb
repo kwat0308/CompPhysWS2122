{
 "cells": [
  {
   "cell_type": "markdown",
   "metadata": {
    "id": "ANvt6GaMYozn"
   },
   "source": [
    "**Homework 1**\n",
    "\n",
    "**Keito Watanabe (s6kewata),\n",
    "Haveesh Singirikonda (s6gusing)**\n",
    "\n"
   ]
  },
  {
   "cell_type": "markdown",
   "metadata": {
    "id": "2Rri_E3KZJqM"
   },
   "source": [
    "1.) The parameter $J$ embodies the spin interaction forces between the nearest neighbours in the arrangement of spins. Usually, we write $J_{ij}$ as the interaction term between the adjacent spins $s_i$ and $s_j$. In this problem, we use the simplification that the interaction between all the spins is the same, which is $J$"
   ]
  },
  {
   "cell_type": "markdown",
   "metadata": {
    "id": "g-BTpAXUh87h"
   },
   "source": [
    "2.) Periodic boundary conditions here refers to the fact that the first and last elements in the arrangement are adjacent to each other. So in this case,  we also add the term, $-J s_1 s_{N}$ to the hamiltonian. This is a periodic boundary condition as we are able to connect the first element with the last element, hence forming a loop of sorts. "
   ]
  },
  {
   "cell_type": "markdown",
   "metadata": {
    "id": "Zuzqlnxp4E6a"
   },
   "source": [
    "What we have to do:\n",
    "\n",
    "1. Define Hamiltonian function (use one given  on assignment)\n",
    "2. Define probability function (same as above)\n",
    "3. Define partition function (same as above)\n",
    "4. Define magnetization per spin: $m = M/N_l = \\sum_i s_i / N_l$\n",
    "5. Define function that initialize random number of spin configurations\n",
    "- for a number of lattice sites $N_l$ and number of configuations $N_{MC}$\n",
    "- initialize them using Metropolis-Hastings => use the prob. distribution for this.\n",
    "  - alternatively use uniformly if we are running out of time.\n",
    "\n",
    "6. Define function that evaluates the expectation of observable:\n",
    "$<O> = \\sum_{\\vec{s}} O(\\vec{s}) P(\\vec{s}) / Z$\n",
    "\n"
   ]
  },
  {
   "cell_type": "markdown",
   "metadata": {
    "id": "REFehgUk_M4J"
   },
   "source": [
    "Before presenting, the results, the dimensionless quantities in this analysis would be the quantities $J/T$ and $h/T$. This is because, in the Probability function, for example,  $P = exp(-H(s)/k_B T)$. The terms inside the exponential should not have dimensions, and we have also set $k_B =1$. So $H(s)/T$ should be dimensionless, which implies $J/T$ and $h/T$ are dimensionless."
   ]
  },
  {
   "cell_type": "code",
   "execution_count": null,
   "metadata": {
    "id": "gesdtPSz57d_"
   },
   "outputs": [],
   "source": [
    "import numpy as np"
   ]
  },
  {
   "cell_type": "code",
   "execution_count": null,
   "metadata": {
    "id": "eLTaJG3L591F"
   },
   "outputs": [],
   "source": [
    "def H_d(s, J, h):\n",
    "  '''Hamiltonian as function of a particular spin configuration s\n",
    "     for a single dimension d '''\n",
    "  N = len(s)  # number of lattice sites\n",
    "  # interaction term, include last term due to periodic BC\n",
    "  coupling_term = J * (np.sum(np.array([s[i]*s[i+1] for i in range(N-1)]))  \n",
    "                        + s[0]*s[N-1])\n",
    "  bfield_term = h * np.sum(s)\n",
    "  return - coupling_term - bfield_term\n",
    "\n",
    "def P_factor(s, J, h, T):\n",
    "  '''Boltmann distribution factor'''\n",
    "  return np.exp(-H_d(s, J, h) / T)\n",
    "\n",
    "def partition(s_arr, J, h, T):\n",
    "  '''Partition function'''\n",
    "  return np.sum([P_factor(s, J, h, T) for s in s_arr])\n",
    "\n",
    "def deltaS(s, s_flipped, J, h, T):\n",
    "  '''Change in energy == change in action'''\n",
    "  return ( H_d(s_flipped, J, h) - H_d(s, J, h) ) / T\n",
    "\n",
    "def m(s):\n",
    "  '''Magnetization per spin as function of spin configuration'''\n",
    "  return np.mean(s)"
   ]
  },
  {
   "cell_type": "code",
   "execution_count": null,
   "metadata": {
    "id": "c-B333BHAq_Z"
   },
   "outputs": [],
   "source": [
    "def init_spins(Nl, J, h, T, N_config, Ntherm=100):\n",
    "  '''Initialize spins based on Metropolis-Hastings algorithm'''\n",
    "\n",
    "  # set initial configuration to be [1, -1, 1, ...]\n",
    "  s_0 = np.array([(-1)**i for i in range(Nl)])\n",
    "\n",
    "  # thermalize (get a random initial configuration)\n",
    "  for j in range(Ntherm):\n",
    "    flip_idx = np.random.randint(0,Nl,size=Nl)\n",
    "    s_flipped = np.copy(s_0)  # shallow copy s\n",
    "    s_flipped[flip_idx] *= -1\n",
    "\n",
    "    # evaluate change in action\n",
    "    dS = deltaS(s_0, s_flipped, J, h, T)\n",
    "\n",
    "    # perform metropolis-hastings step\n",
    "    if dS < 0:  # if energy is lowered\n",
    "      s_0 = s_flipped\n",
    "    else:\n",
    "      y = np.random.uniform(0, 1)\n",
    "      if y <= np.exp(-dS):  \n",
    "        s_0 = s_flipped\n",
    "      else:\n",
    "        pass  # return original\n",
    "\n",
    "  s_arr = np.zeros((N_config, Nl))\n",
    "\n",
    "  # generate spin configurations randomly\n",
    "  for i in range(N_config):\n",
    "\n",
    "    # generate random spin configuration\n",
    "    s = np.random.randint(0,high=2,size=Nl)\n",
    "    s[s==0] = -1\n",
    "\n",
    "    # set random site to be flipped\n",
    "    flip_idx = np.random.randint(0,Nl,size=Nl)\n",
    "    s_flipped = s  \n",
    "    s_flipped[flip_idx] *= -1\n",
    "\n",
    "    # print(s_flipped, s)\n",
    "\n",
    "    # evaluate change in action\n",
    "    dS = deltaS(s, s_flipped, J, h, T)\n",
    "\n",
    "    # perform metropolis-hastings step\n",
    "    if dS < 0:  # if energy is lowered\n",
    "      s_arr[i, :] = s_flipped\n",
    "    else:\n",
    "      y = np.random.uniform(0, 1)\n",
    "      if y <= np.exp(-dS):  \n",
    "        s_arr[i, :] = s_flipped\n",
    "      else:\n",
    "        s_arr[i, :] = s  # return original\n",
    "\n",
    "  return s_arr\n"
   ]
  },
  {
   "cell_type": "code",
   "execution_count": null,
   "metadata": {
    "id": "7BpQgi1b_60m"
   },
   "outputs": [],
   "source": [
    "# set initial parameters\n",
    "J = 1\n",
    "T = 1  # set low since we perform with lattice spins\n",
    "Nl = 10   # number of lattice sites\n",
    "N_config = 5000   # number of spin configurations\n",
    "\n",
    "h_arr = np.linspace(-1, 1, 50)\n",
    "# h_arr = [1]\n",
    "m_exp_arr = np.zeros(len(h_arr))\n",
    "\n",
    "for i, h in enumerate(h_arr):\n",
    "  # array of spin configurations (N_config, Nl)\n",
    "  s_arr = init_spins(Nl, J, h, T, N_config)\n",
    "\n",
    "  # get partition function\n",
    "  Z = partition(s_arr, J, h, T)\n",
    "\n",
    "  # get magnetization per spin \n",
    "  m_exp = np.sum([m(s) * P_factor(s, J, h, T) for s in s_arr]) / Z\n",
    "\n",
    "  # print(m_exp)\n",
    "  m_exp_arr[i] = m_exp\n"
   ]
  },
  {
   "cell_type": "markdown",
   "metadata": {
    "id": "ecFW2tZTBEwS"
   },
   "source": [
    "Using these functions, we can now determine the numerical value of $m$. For comparison, we use the theoretical functions expression, at both finite N and the thermodynamic limit. We directly use the functions from lecture03.pdf."
   ]
  },
  {
   "cell_type": "code",
   "execution_count": null,
   "metadata": {
    "id": "-qPcUTlQxNlJ"
   },
   "outputs": [],
   "source": [
    "def mExactN(J,h,N):\n",
    "    s = np.sinh(h)\n",
    "    c = np.cosh(h)\n",
    "    expm4J = np.exp(-4*J)\n",
    "    ratio = (c-np.sqrt(s**2+expm4J))/(c+np.sqrt(s**2+expm4J))\n",
    "    answer = (1-ratio**N)/(1+ratio**N)\n",
    "    answer *= s/np.sqrt(s**2+expm4J)\n",
    "    return answer\n",
    "\n",
    "def mExact(J,h):\n",
    "    s = np.sinh(h)\n",
    "    c = np.cosh(h)\n",
    "    expm4J = np.exp(-4*J)\n",
    "    answer = s/np.sqrt(s**2+expm4J)\n",
    "    return answer"
   ]
  },
  {
   "cell_type": "markdown",
   "metadata": {
    "id": "ycgkTMBgD9eA"
   },
   "source": [
    "Now, we can plot these results. We have plotted the simulated results, along with the theoretical estimates, at both the finite limit and the Thermodynamic limit."
   ]
  },
  {
   "cell_type": "code",
   "execution_count": null,
   "metadata": {
    "colab": {
     "base_uri": "https://localhost:8080/",
     "height": 412
    },
    "id": "1RWXWBtPNE5l",
    "outputId": "65740c92-a4b9-47df-87ae-4315ae49d618"
   },
   "outputs": [
    {
     "data": {
      "image/png": "[encoded data removed]",
      "text/plain": [
       "<Figure size 648x432 with 1 Axes>"
      ]
     },
     "metadata": {
      "needs_background": "light"
     },
     "output_type": "display_data"
    }
   ],
   "source": [
    "import matplotlib.pyplot as plt\n",
    "\n",
    "fig, ax = plt.subplots(figsize=(9,6))\n",
    "\n",
    "ax.plot(h_arr, m_exp_arr, ls=\"\", marker=\"o\", ms=4.0,label='Simulated')\n",
    "ax.plot(h_arr, mExactN(J, h_arr, Nl),label='Theoretical', lw=3.0)\n",
    "ax.plot(h_arr,mExact(J,h_arr),label='Thermodynamic Limit',ls=':', lw=3.0)\n",
    "ax.legend()\n",
    "ax.set_xlabel('h', fontsize=14)\n",
    "ax.set_ylabel('$<m>$', fontsize=14)\n",
    "ax.set_title(\"$<m>$ vs $h$, $N_l = {0}$\".format(Nl), fontsize=16)\n",
    "ax.grid();"
   ]
  },
  {
   "cell_type": "code",
   "execution_count": null,
   "metadata": {
    "id": "qH1c3rYpVxym"
   },
   "outputs": [],
   "source": [
    "# set initial parameters\n",
    "J = 1\n",
    "T = 1  # set low since we perform with lattice spins\n",
    "h = 1   # external magnetic field\n",
    "N_config = 5000   # number of spin configurations\n",
    "\n",
    "Nl_arr = np.arange(1, 10, step=1, dtype=int)\n",
    "m_exp_arr = np.zeros(len(Nl_arr))\n",
    "\n",
    "for i, Nl_i in enumerate(Nl_arr):\n",
    "  # array of spin configurations (N_config, Nl_i)\n",
    "  s_arr = init_spins(Nl_i, J, h, T, N_config)\n",
    "\n",
    "  # get partition function\n",
    "  Z = partition(s_arr, J, h, T)\n",
    "\n",
    "  # get magnetization per spin .\n",
    "  m_exp = np.sum([m(s) * P_factor(s, J, h, T) for s in s_arr]) / Z\n",
    "\n",
    "  # print(m_exp)\n",
    "  m_exp_arr[i] = m_exp"
   ]
  },
  {
   "cell_type": "code",
   "execution_count": null,
   "metadata": {
    "colab": {
     "base_uri": "https://localhost:8080/",
     "height": 415
    },
    "id": "h4BLmn2gWfC9",
    "outputId": "b17d019c-9b92-4a6e-dbf3-d4ece52fc843"
   },
   "outputs": [
    {
     "data": {
      "image/png": "[encoded data removed]",
      "text/plain": [
       "<Figure size 648x432 with 1 Axes>"
      ]
     },
     "metadata": {
      "needs_background": "light"
     },
     "output_type": "display_data"
    }
   ],
   "source": [
    "import matplotlib.pyplot as plt\n",
    "\n",
    "m_theo_N = [mExactN(J,h,N_in) for N_in in Nl_arr]\n",
    "\n",
    "fig, ax = plt.subplots(figsize=(9,6))\n",
    "\n",
    "ax.plot(Nl_arr, m_exp_arr, ls=\"\", marker=\"o\", ms=4.0,label='Simulated')\n",
    "ax.plot(Nl_arr,m_theo_N,label='Theoretical', lw=2.0)\n",
    "ax.legend()\n",
    "ax.set_xlabel('Number of sites $N_l$', fontsize=14)\n",
    "ax.set_ylabel('$<m>$', fontsize=14)\n",
    "ax.set_title(\"$<m>$ vs $N_l$, $h / k_B T = {0}$\".format(h), fontsize=16)\n",
    "ax.grid();"
   ]
  },
  {
   "cell_type": "markdown",
   "metadata": {
    "id": "VkPjjpgMJSMY"
   },
   "source": [
    "In the plots comparing $<m>$ vs $N_l$, we observe that for small number of lattice sites, the magnetization per spin $<m>$ is significantly lower than those with higher number of lattice sites. This also shows the convergence of the magnetization per spin so that as we have higher number of lattice sites the true value of $<m> \\sim 1$ is attained, as expected."
   ]
  }
 ],
 "metadata": {
  "colab": {
   "collapsed_sections": [],
   "name": "Comp_Ex1.ipynb",
   "provenance": []
  },
  "kernelspec": {
   "display_name": "Python 3",
   "language": "python",
   "name": "python3"
  },
  "language_info": {
   "codemirror_mode": {
    "name": "ipython",
    "version": 3
   },
   "file_extension": ".py",
   "mimetype": "text/x-python",
   "name": "python",
   "nbconvert_exporter": "python",
   "pygments_lexer": "ipython3",
   "version": "3.8.10"
  }
 },
 "nbformat": 4,
 "nbformat_minor": 1
}
