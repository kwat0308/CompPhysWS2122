{
 "cells": [
  {
   "cell_type": "markdown",
   "metadata": {
    "id": "KnTsne_D1sH_"
   },
   "source": [
    "Homework 2\n",
    "\n",
    "In this assignment, we will expand our 1-D Ising model to 2-D, implementing the\n",
    "Metropolis-Hastings algorithm. We will perform \"sweeps\" through the 2-D lattice \n",
    "of size $\\Lambda = N_x \\times N_y$."
   ]
  },
  {
   "cell_type": "markdown",
   "metadata": {
    "id": "ZeLnr97BOiyC"
   },
   "source": [
    "Questions:\n",
    "\n",
    "2. How does numerical cost of the calculation of the \n",
    "energy scale with system size $\\Lambda$?\n",
    "3. Assuming you’ve flipped one spin $s_i$, how does the numerical cost of the calculation of the change in energy ∆S scale with the system size Λ?\n",
    "4. Significance of critical coupling $J_c$"
   ]
  },
  {
   "cell_type": "markdown",
   "metadata": {
    "id": "mNFunAVb86-p"
   },
   "source": [
    "2. Calculation of the energy scales with system size $\\Lambda$ as $O(\\Lambda)$, as a pass to calculate this involves traversing through all the lattice points for a finite number of times. So, time to determine energy is ~ $O(\\Lambda)$."
   ]
  },
  {
   "cell_type": "markdown",
   "metadata": {
    "id": "bJtvpDB197T4"
   },
   "source": [
    "3. We have the expression for change of energy $Δ S$ derived analytically, \\\\\n",
    "$\\Delta S = 2J s_x (s_{x-1} + s_{x+1}) + 2s_xh$. \n",
    "So to determine the value of $Δ S$ we don't need to run an entire cycle of traversing through the lattice points. So, the order of time to determine $Δ S$ is $O(1)$."
   ]
  },
  {
   "cell_type": "markdown",
   "metadata": {
    "id": "q4WAR9bx_v8N"
   },
   "source": [
    "4. $J_c$ represents the coupling at the critical temperature, $T_c$. The critical temperature is the point at which phase transition occurs. "
   ]
  },
  {
   "cell_type": "code",
   "execution_count": 5,
   "metadata": {
    "id": "Skwm3HdG1atC"
   },
   "outputs": [],
   "source": [
    "import numpy as np"
   ]
  },
  {
   "cell_type": "code",
   "execution_count": 6,
   "metadata": {
    "id": "bXmENux-ROVy"
   },
   "outputs": [],
   "source": [
    "def H(s, J, h):\n",
    "  '''Hamiltonian for a particular spin configuration in 2D'''\n",
    "\n",
    "  # get coupling term\n",
    "  coupling_term = eval_coupling(s)\n",
    "\n",
    "  # get external magnetic field term\n",
    "  bfield_term = np.sum(s)\n",
    "\n",
    "  return -J * coupling_term - h * bfield_term\n",
    "\n",
    "def eval_coupling(s):\n",
    "  '''evaluate coupling term with nearest neighbours'''\n",
    "  Nx, Ny = s.shape\n",
    "  coupling_term = 0.\n",
    "  return np.sum([\n",
    "      s[x,y]*(s[(x+1)%Nx,y]+s[(x-1)%Nx,y]+s[x,(y-1)%Ny]+s[x,(y+1)%Ny]) \n",
    "      for x in range(Nx) for y in range(Ny) \n",
    "  ])\n",
    "\n",
    "def P_factor(s, J, h, T):\n",
    "  '''Boltmann distribution factor'''\n",
    "  return np.exp(-H(s, J, h) / T)\n",
    "\n",
    "def partition(s_arr, J, h, T):\n",
    "  '''Partition function'''\n",
    "  return np.sum([P_factor(s, J, h, T) for s in s_arr])\n",
    "\n",
    "def deltaS(flip_idx, s, J, h, T, Nx, Ny):\n",
    "  '''Change in action with flip of spin at flip_idx'''\n",
    "  x, y = flip_idx\n",
    "  coupling_term = J*(s[(x+1)%Nx,y] + s[(x-1)%Nx,y] \\\n",
    "                      + s[x,(y+1)%Ny] + s[x,(y-1)%Ny])\n",
    "  return 2 * s[x,y]*(coupling_term + h)\n",
    "\n",
    "# Observables below\n",
    "def m(s):\n",
    "  '''Magnetization per spin as function of spin configuration'''\n",
    "  return np.mean(s)\n",
    "\n",
    "def en(s, J, h):\n",
    "  '''Energy per spin'''\n",
    "  Nx, Ny = s.shape\n",
    "  return H(s, J, h) / (Nx*Ny)\n",
    "\n",
    "def m_abs(s):\n",
    "  '''Absolute value of magnetization per spin'''\n",
    "  return np.abs(np.mean(s))"
   ]
  },
  {
   "cell_type": "code",
   "execution_count": 10,
   "metadata": {
    "id": "P-IMPaLWanu2"
   },
   "outputs": [],
   "source": [
    "def init_spin(Nx, Ny, J, h, T, Ntherm=100):\n",
    "  '''Initialize spins based on Metropolis-Hastings algorithm'''\n",
    "\n",
    "  # set initial spins to be equally up and down\n",
    "  s0 = np.ones((Nx, Ny))\n",
    "  for i in range(Nx):\n",
    "    for j in range(Ny):\n",
    "      if (i+j)%2 == 1:   # every index where sum of indices is odd number\n",
    "        s0[i, j] *= -1\n",
    "\n",
    "  # thermalize (get a random initial configuration)\n",
    "  for k in range(Ntherm):\n",
    "    for l in range(Nx*Ny):\n",
    "      i, j = np.random.randint(0, Nx), np.random.randint(0, Ny) \n",
    "\n",
    "      # evaluate change in action\n",
    "      dS = deltaS((i,j), s0, J, h, T, Nx, Ny)\n",
    "      y = np.random.uniform(0, 1)\n",
    "      if y <= np.exp(-dS):  \n",
    "        s0[i,j] *= -1\n",
    "      else:\n",
    "        pass  # return original\n",
    "\n",
    "  return s0\n",
    "\n",
    "def run(s, Nx, Ny, J, h, T, Nmeasure, obsv=\"m\"):\n",
    "  '''\n",
    "  Run the algorithm and obtain the observables\n",
    "  obsv = \"m\" (magnetization), \"en\"(energy), \"m_abs\"(|m|)\n",
    "  '''\n",
    "\n",
    "  # # set up lattice\n",
    "  # iterate over each measurement\n",
    "  obsv_arr = np.zeros(Nmeasure)\n",
    "  # prob_arr = np.zeros(Nx*Ny)\n",
    "  \n",
    "  for k in range(Nmeasure):\n",
    "    for l in range(Nx*Ny):\n",
    "      i, j = np.random.randint(0, Nx), np.random.randint(0, Ny) \n",
    "\n",
    "      # evaluate dS at flipped location\n",
    "      dS = deltaS((i,j), s, J, h, T, Nx, Ny)\n",
    "\n",
    "      # perform metropolis-hastings step\n",
    "      y = np.random.uniform(0, 1)\n",
    "      if y <= np.exp(-dS):  \n",
    "        s[i,j] *= -1\n",
    "        # prob_arr[i*Nx + j] = 1\n",
    "      else:\n",
    "        pass  # return original\n",
    "\n",
    "    # evaluate observable here for each measurement\n",
    "    if obsv == \"m\":\n",
    "      obsv_arr[k] = m(s)\n",
    "    elif obsv == \"en\":\n",
    "      obsv_arr[k] = en(s, J, h)\n",
    "    elif obsv == \"m_abs\":\n",
    "      obsv_arr[k] = m_abs(s)\n",
    "    else:\n",
    "      raise ValueError(\"No observable named {0} found.\".format(obsv))\n",
    "  \n",
    "  # return <o> per measurement and accept / reject for this measurement\n",
    "  return np.mean(obsv_arr)  \n",
    "\n",
    "  "
   ]
  },
  {
   "cell_type": "code",
   "execution_count": 45,
   "metadata": {
    "id": "P7LAH2kPcMSK"
   },
   "outputs": [],
   "source": [
    "# set initial parameters\n",
    "J = 0.5\n",
    "T = 1  # set low since we perform with lattice spins\n",
    "Nx = 5\n",
    "Ny = 5   \n",
    "\n",
    "# observable\n",
    "obsv = \"m\"\n",
    "\n",
    "Lmbda = Nx * Ny # total number of lattice sites\n",
    "Nmeasure = 1000   # number of measurements to perform\n",
    "h_arr = np.linspace(-1, 1, 75)\n",
    "m_exp_arr = np.zeros(len(h_arr))\n",
    "\n",
    "# N_boot = 10  # number of bootstrap samples\n",
    "# m_bootstrap = np.zeros((len(h_arr), N_boot))\n",
    "\n",
    "for i, h in enumerate(h_arr):\n",
    "  # array of spin configurations (N_config, Nl)\n",
    "  s0 = init_spin(Nx, Ny, J, h, T)\n",
    "  # print(s_arr)\n",
    "  \n",
    "  m_exp = run(s0, Nx, Ny, J, h, T, Nmeasure, obsv=obsv)\n",
    "\n",
    "  m_exp_arr[i] = m_exp\n",
    "\n",
    "  # for j in range(N_boot):\n",
    "  #   m_boot = run(s0, Nx, Ny, J, h, T, Nmeasure, obsv=obsv)\n",
    "\n",
    "  #   m_bootstrap[i, j] = m_boot"
   ]
  },
  {
   "cell_type": "code",
   "execution_count": 46,
   "metadata": {
    "id": "GVsxG7MexnSR"
   },
   "outputs": [],
   "source": [
    "def bootstrap(og_arr):\n",
    "  '''Bootsrapping to get the bootstrap mean and error'''\n",
    "  N_param, N_og = og_arr.shape\n",
    "\n",
    "  # number of bootstrap samples\n",
    "  R = 100\n",
    "\n",
    "  # error estimate for each observable per parameter\n",
    "  std_arr = [] \n",
    "\n",
    "  # evaluate error over each parameter\n",
    "  for k in range(N_param):\n",
    "    boot_p = []   # bootstrap per parameter\n",
    "\n",
    "    # get R bootstrap samples\n",
    "    for j in range(R):\n",
    "      r = np.random.randint(0,high=N_og,size=N_og)  # get random index\n",
    "      temp = np.ones(N_og)\n",
    "\n",
    "      # assign randomized magnetization\n",
    "      for i in range(N_og):\n",
    "        temp[i] = og[r[i]] \n",
    "\n",
    "      boot_p.append(temp)\n",
    "\n",
    "    boot_p = np.array(boot_p)\n",
    "    # bootstrap means\n",
    "    mean_b = np.mean(boot_p, axis=1)\n",
    "    # mean of bootstrap means\n",
    "    mean_bs = np.mean(mean_b)\n",
    "\n",
    "    # standard deviation of the bootstrap means\n",
    "    # this is the error estimate of the observable\n",
    "    std = np.sqrt( np.sum((mean_b -  mean_bs)**2) * 1/(R-1))\n",
    "\n",
    "    std_arr.append(std)\n",
    "\n",
    "  return std_arr"
   ]
  },
  {
   "cell_type": "code",
   "execution_count": 52,
   "metadata": {
    "colab": {
     "base_uri": "https://localhost:8080/"
    },
    "id": "oL4f_bk40vqS",
    "outputId": "88bedeb2-600d-4210-ca42-d1345ed23d94"
   },
   "outputs": [
    {
     "name": "stdout",
     "output_type": "stream",
     "text": [
      "Error estimate for magnetization: 1.11582e-16\n"
     ]
    }
   ],
   "source": [
    "# Bootsrapping to get the bootstrap mean and error\n",
    "\n",
    "# as an example, we bootstrap for a single magnetization element\n",
    "# and assume we have len(h_arr) bootstrap samples.\n",
    "m_og = m_exp_arr[-2]*np.ones_like(m_exp_arr)\n",
    "N_og = m_og.size\n",
    "\n",
    "R = 100  # number of bootstrap samples\n",
    "m_boot = []\n",
    "\n",
    "for j in range(R):\n",
    "  r = np.random.randint(0,high=N_og,size=N_og)  # each random index\n",
    "  m_temp = np.ones(N_og)\n",
    "\n",
    "  # assign randomized magnetization\n",
    "  for i in range(N_og):\n",
    "    m_temp[i] = m_og[r[i]]   \n",
    "  m_boot.append(m_temp)\n",
    "\n",
    "m_boot = np.array(m_boot)\n",
    "\n",
    "# bootstrap means\n",
    "mean_b = np.mean(m_boot, axis=1)\n",
    "\n",
    "# mean of bootstrap means\n",
    "mean_bs = np.mean(mean_b)\n",
    "\n",
    "# standard deviation of the bootstrap means\n",
    "# this is the error estimate of the magnetization\n",
    "std = np.sqrt( np.sum((mean_b -  mean_bs)**2) * 1/(R-1))\n",
    "\n",
    "print(\"Error estimate for magnetization: {0:.5e}\".format(std))"
   ]
  },
  {
   "cell_type": "code",
   "execution_count": 53,
   "metadata": {
    "colab": {
     "base_uri": "https://localhost:8080/",
     "height": 412
    },
    "id": "duFnWPDjc10T",
    "outputId": "4a09df18-a7ad-4db6-eb8d-79575ef7c536"
   },
   "outputs": [
    {
     "data": {
      "image/png": "[encoded data removed]",
      "text/plain": [
       "<Figure size 648x432 with 1 Axes>"
      ]
     },
     "metadata": {
      "needs_background": "light"
     },
     "output_type": "display_data"
    }
   ],
   "source": [
    "import matplotlib.pyplot as plt\n",
    "\n",
    "fig, ax = plt.subplots(figsize=(9,6))\n",
    "\n",
    "ax.plot(h_arr, m_exp_arr, ls=\"\", marker=\"o\", ms=4.0,label='Simulated')\n",
    "ax.legend()\n",
    "ax.set_xlabel('h', fontsize=14)\n",
    "ax.set_ylabel('$<m>$', fontsize=14)\n",
    "ax.set_title(\"$<m>$ vs $h$, $\\Lambda = {0}$, $J = {1}$\".format(Lmbda, J), fontsize=16)\n",
    "ax.grid();"
   ]
  },
  {
   "cell_type": "code",
   "execution_count": 54,
   "metadata": {
    "id": "N3hdeUs-ftXG"
   },
   "outputs": [],
   "source": [
    "# set initial parameters\n",
    "h = 0\n",
    "T = 1  # set low since we perform with lattice spins\n",
    "Nx = 5\n",
    "Ny = 5    \n",
    "\n",
    "# observable\n",
    "obsv = \"en\"\n",
    "\n",
    "Lmbda = Nx * Ny # total number of lattice sites\n",
    "Nmeasure = 5000   # number of measurements to perform\n",
    "J_arr = np.linspace(0.25, 2, 50)\n",
    "en_exp_arr = np.zeros(len(J_arr))\n",
    "\n",
    "for i, J in enumerate(J_arr):\n",
    "  # array of spin configurations (N_config, Nl)\n",
    "  s0 = init_spin(Nx, Ny, J, h, T)\n",
    "  \n",
    "  en_exp = run(s0, Nx, Ny, J, h, T, Nmeasure, obsv=obsv)\n",
    "\n",
    "  en_exp_arr[i] = en_exp"
   ]
  },
  {
   "cell_type": "code",
   "execution_count": 55,
   "metadata": {
    "id": "AYSZvsS9gnFd"
   },
   "outputs": [],
   "source": [
    "from scipy.special import ellipk  # complete elliptical integral of the first kind\n",
    "\n",
    "def en_exact(J):\n",
    "  '''Analytical <en> with h=0 in thermo. limit in 2-D Ising model'''\n",
    "  th = np.tanh(2 * J)  # tanh\n",
    "  ch = np.cosh(2 * J)  # cosh\n",
    "\n",
    "  K = ellipk(4 * (th / ch)**2.)\n",
    "  K_prefactor = (2.  / np.pi) * (2. * th**2. - 1.)\n",
    "\n",
    "  return - (J / th) * (1. + K_prefactor * K)"
   ]
  },
  {
   "cell_type": "code",
   "execution_count": 56,
   "metadata": {
    "colab": {
     "base_uri": "https://localhost:8080/",
     "height": 412
    },
    "id": "nikh10zOgoiP",
    "outputId": "9c58a62c-b743-40df-b8c6-f721ecf1c81c"
   },
   "outputs": [
    {
     "data": {
      "image/png": "[encoded data removed]",
      "text/plain": [
       "<Figure size 648x432 with 1 Axes>"
      ]
     },
     "metadata": {
      "needs_background": "light"
     },
     "output_type": "display_data"
    }
   ],
   "source": [
    "fig, ax = plt.subplots(figsize=(9,6))\n",
    "\n",
    "J_exact = np.linspace(np.min(J_arr), np.max(J_arr), 200)\n",
    "\n",
    "ax.plot(J_arr, en_exp_arr, ls=\"\", marker=\"o\", ms=4.0,label='Simulated')\n",
    "ax.plot(J_exact, en_exact(J_exact),label='Thermodynamic Limit', lw=3.0)\n",
    "# ax.plot(h_arr,mExact(J,h_arr),label='Thermodynamic Limit',ls=':', lw=3.0)\n",
    "ax.legend()\n",
    "ax.set_xlabel('J', fontsize=14)\n",
    "ax.set_ylabel('$<\\epsilon>$', fontsize=14)\n",
    "ax.set_title(\"$<\\epsilon>$ vs $J$, $\\Lambda = {0}$, $h=0$\".format(Lmbda),\n",
    "             fontsize=16)\n",
    "ax.grid();"
   ]
  },
  {
   "cell_type": "code",
   "execution_count": 57,
   "metadata": {
    "id": "nGHQgQXSgJ1V"
   },
   "outputs": [],
   "source": [
    "# set initial parameters\n",
    "h = 0\n",
    "T = 1  # set low since we perform with lattice spins\n",
    "Nx = 5\n",
    "Ny = 5    \n",
    "\n",
    "# observable\n",
    "obsv = \"m_abs\"\n",
    "\n",
    "Lmbda = Nx * Ny # total number of lattice sites\n",
    "Nmeasure = 5000   # number of measurements to perform\n",
    "J_arr = np.linspace(0.25, 1, 50)\n",
    "mabs_exp_arr = np.zeros(len(J_arr))\n",
    "\n",
    "for i, J in enumerate(J_arr):\n",
    "  # array of spin configurations (N_config, Nl)\n",
    "  s0 = init_spin(Nx, Ny, J, h, T)\n",
    "  \n",
    "  mabs_exp = run(s0, Nx, Ny, J, h, T, Nmeasure, obsv=obsv)\n",
    "\n",
    "  mabs_exp_arr[i] = mabs_exp"
   ]
  },
  {
   "cell_type": "code",
   "execution_count": 58,
   "metadata": {
    "id": "d0QFPOA5dnGC"
   },
   "outputs": [],
   "source": [
    "def mabs_exact(J_arr):\n",
    "  '''Analytical <|m|> with h=0 in thermodynamic limit for 2-D Ising model'''\n",
    "  Jc = 0.5 * np.log(1 + np.sqrt(2))  # critical coupling constant\n",
    "  mabs_arr = np.zeros_like(J_arr)\n",
    "  for i, J in enumerate(J_arr):\n",
    "    if J > Jc:\n",
    "      mabs_arr[i] = (1. - 1. / (np.sinh(2 * J))**4. ) ** (1. / 8.)\n",
    "    else:\n",
    "      mabs_arr[i] = 0.\n",
    "  \n",
    "  return mabs_arr\n",
    "\n"
   ]
  },
  {
   "cell_type": "code",
   "execution_count": 59,
   "metadata": {
    "colab": {
     "base_uri": "https://localhost:8080/",
     "height": 420
    },
    "id": "QOCNFu3jgjEW",
    "outputId": "bcff8b52-5ddc-4472-f897-b56fe4476dc1"
   },
   "outputs": [
    {
     "data": {
      "image/png": "[encoded data removed]",
      "text/plain": [
       "<Figure size 648x432 with 1 Axes>"
      ]
     },
     "metadata": {
      "needs_background": "light"
     },
     "output_type": "display_data"
    }
   ],
   "source": [
    "fig, ax = plt.subplots(figsize=(9,6))\n",
    "\n",
    "J_exact = np.linspace(np.min(J_arr), np.max(J_arr), 200)\n",
    "\n",
    "ax.plot(1. / J_arr, mabs_exp_arr, ls=\"\", marker=\"o\", ms=4.0,label='Simulated')\n",
    "ax.plot(1. / J_exact, mabs_exact(J_exact),label='Thermodynamic Limit', lw=3.0)\n",
    "ax.legend()\n",
    "ax.set_xlabel('$J^{{-1}}$', fontsize=14)\n",
    "ax.set_ylabel('$<|m|>$', fontsize=14)\n",
    "ax.set_title(\"$<|m|>$ vs $J$, $\\Lambda = {0}$, $h=0$\".format(Lmbda),\n",
    "             fontsize=16)\n",
    "ax.grid();"
   ]
  },
  {
   "cell_type": "markdown",
   "metadata": {
    "id": "1i7R8slPB9ek"
   },
   "source": [
    "7. The above plot is a plot between the mean of the absolute values of the magnetization and the inverse of the interaction term $J$. We see that when the value of $J^{-1}$ increases, or $J$ decreases, the value of of $<|m|>$ decreases. So that means that with a decrease in interaction between particles, the magnetization would also reduce. We can see this even in the Thermodynamic limit, where the mean of the absolute magnetization reduces with decreasing $J$."
   ]
  },
  {
   "cell_type": "code",
   "execution_count": 60,
   "metadata": {
    "id": "QjjjHK8vBMsR"
   },
   "outputs": [],
   "source": [
    "# set initial parameters\n",
    "h = 0\n",
    "T = 1  # set low since we perform with lattice spins\n",
    "Nx = 5\n",
    "Ny = 5    \n",
    "\n",
    "# observable\n",
    "obsv = \"m\"\n",
    "\n",
    "Lmbda = Nx * Ny # total number of lattice sites\n",
    "Nmeasure = 5000   # number of measurements to perform\n",
    "J_arr = np.linspace(0.25, 1, 50)\n",
    "m_exp_arr = np.zeros(len(J_arr))\n",
    "\n",
    "for i, J in enumerate(J_arr):\n",
    "  # array of spin configurations (N_config, Nl)\n",
    "  s0 = init_spin(Nx, Ny, J, h, T)\n",
    "  \n",
    "  m_exp = run(s0, Nx, Ny, J, h, T, Nmeasure, obsv=obsv)\n",
    "\n",
    "  m_exp_arr[i] = m_exp"
   ]
  },
  {
   "cell_type": "code",
   "execution_count": 61,
   "metadata": {
    "colab": {
     "base_uri": "https://localhost:8080/",
     "height": 420
    },
    "id": "Ugg4M_6wBX_Y",
    "outputId": "82ab2c5e-0813-433a-a9e1-5b8749341149"
   },
   "outputs": [
    {
     "data": {
      "image/png": "[encoded data removed]",
      "text/plain": [
       "<Figure size 648x432 with 1 Axes>"
      ]
     },
     "metadata": {
      "needs_background": "light"
     },
     "output_type": "display_data"
    }
   ],
   "source": [
    "fig, ax = plt.subplots(figsize=(9,6))\n",
    "\n",
    "J_exact = np.linspace(np.min(J_arr), np.max(J_arr), 200)\n",
    "\n",
    "ax.plot(1. / J_arr, m_exp_arr, ls=\"\", marker=\"o\", ms=4.0,label='Simulated')\n",
    "# ax.plot(1. / J_exact, m_exact(J_exact),label='Thermodynamic Limit', lw=3.0)\n",
    "ax.legend()\n",
    "ax.set_xlabel('$J^{{-1}}$', fontsize=14)\n",
    "ax.set_ylabel('$<m>$', fontsize=14)\n",
    "ax.set_title(\"$<m>$ vs $J$, $\\Lambda = {0}$, $h=0$\".format(Lmbda),\n",
    "             fontsize=16)\n",
    "ax.grid();"
   ]
  },
  {
   "cell_type": "markdown",
   "metadata": {
    "id": "L1BMs3eVB4Y1"
   },
   "source": [
    "7. Plotting $<m>$ instead of $<|m|>$ shows us the that the plot is almost symmetric around the x-axis. At lower values of $J^{-1}$, the value of $<m>$ is near 1 or -1. And later on, it falls off to lower values. This is just like the case of $<|m|>$, but its only on one side of the x-axis."
   ]
  }
 ],
 "metadata": {
  "colab": {
   "collapsed_sections": [],
   "name": "CompPhys_Ex2.ipynb",
   "provenance": []
  },
  "kernelspec": {
   "display_name": "Python 3",
   "language": "python",
   "name": "python3"
  },
  "language_info": {
   "codemirror_mode": {
    "name": "ipython",
    "version": 3
   },
   "file_extension": ".py",
   "mimetype": "text/x-python",
   "name": "python",
   "nbconvert_exporter": "python",
   "pygments_lexer": "ipython3",
   "version": "3.8.5"
  }
 },
 "nbformat": 4,
 "nbformat_minor": 1
}
